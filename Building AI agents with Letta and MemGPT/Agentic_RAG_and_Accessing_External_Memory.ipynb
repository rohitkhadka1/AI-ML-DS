{
 "cells": [
  {
   "cell_type": "markdown",
   "id": "88d8682d",
   "metadata": {
    "ExecuteTime": {
     "end_time": "2025-04-22T20:46:12.008948Z",
     "start_time": "2025-04-22T20:46:12.005558Z"
    },
    "height": 30
   },
   "source": [
    "# Lab 5: Agentic Rag and External Memory"
   ]
  },
  {
   "cell_type": "markdown",
   "id": "5e2ff5b0e4f8ff69",
   "metadata": {},
   "source": [
    "## Preparation\n",
    "\n",
    "<div style=\"background-color:#fff6ff; padding:13px; border-width:3px; border-color:#efe6ef; border-style:solid; border-radius:6px\">\n",
    "<p> 💻 &nbsp; <b>Access <code>requirements.txt</code> and <code>helper.py</code> files:</b> 1) click on the <em>\"File\"</em> option on the top menu of the notebook and then 2) click on <em>\"Open\"</em>.\n",
    "\n",
    "<p> ⬇ &nbsp; <b>Download Notebooks:</b> 1) click on the <em>\"File\"</em> option on the top menu of the notebook and then 2) click on <em>\"Download as\"</em> and select <em>\"Notebook (.ipynb)\"</em>.</p>\n",
    "\n",
    "<p> 📒 &nbsp; For more help, please see the <em>\"Appendix – Tips, Help, and Download\"</em> Lesson.</p>\n",
    "</div>"
   ]
  },
  {
   "cell_type": "markdown",
   "id": "93e3d623d9dc2d39",
   "metadata": {},
   "source": [
    "## Section 0: Setup a Letta client"
   ]
  },
  {
   "cell_type": "code",
   "execution_count": 1,
   "id": "7f47ddae-d743-4627-8b5d-7d178e674e18",
   "metadata": {
    "height": 64
   },
   "outputs": [],
   "source": [
    "from letta_client import Letta\n",
    "\n",
    "client = Letta(base_url=\"http://localhost:8283\")"
   ]
  },
  {
   "cell_type": "code",
   "execution_count": 2,
   "id": "806154d9-6c23-4f05-8c0f-ba5698d75a70",
   "metadata": {
    "height": 200
   },
   "outputs": [],
   "source": [
    "def print_message(message):  \n",
    "    if message.message_type == \"reasoning_message\": \n",
    "        print(\"🧠 Reasoning: \" + message.reasoning) \n",
    "    elif message.message_type == \"assistant_message\": \n",
    "        print(\"🤖 Agent: \" + message.content) \n",
    "    elif message.message_type == \"tool_call_message\": \n",
    "        print(\"🔧 Tool Call: \" + message.tool_call.name + \"\\n\" + message.tool_call.arguments)\n",
    "    elif message.message_type == \"tool_return_message\": \n",
    "        print(\"🔧 Tool Return: \" + message.tool_return)\n",
    "    elif message.message_type == \"user_message\": \n",
    "        print(\"👤 User Message: \" + message.content)"
   ]
  },
  {
   "cell_type": "markdown",
   "id": "0d888474-9748-4e6e-a80d-0c13924d6992",
   "metadata": {},
   "source": [
    "## Section 1: Data Sources"
   ]
  },
  {
   "cell_type": "markdown",
   "id": "e20a9722b6ca3729",
   "metadata": {},
   "source": [
    "### Creating a source"
   ]
  },
  {
   "cell_type": "code",
   "execution_count": 3,
   "id": "372a8f61-124d-40ac-830a-2543f5ca836e",
   "metadata": {
    "height": 98
   },
   "outputs": [
    {
     "data": {
      "text/plain": [
       "Source(id='source-262e472f-08fc-4921-a70a-1f05ac002a84', name='employee_handbook', description=None, embedding_config=EmbeddingConfig(embedding_endpoint_type='openai', embedding_endpoint='http://jupyter-api-proxy.internal.dlai/rev-proxy/letta', embedding_model='text-embedding-3-small', embedding_dim=2000, embedding_chunk_size=300, handle='openai/text-embedding-3-small', azure_endpoint=None, azure_version=None, azure_deployment=None), metadata=None, created_by_id='user-00000000-0000-4000-8000-000000000000', last_updated_by_id='user-00000000-0000-4000-8000-000000000000', created_at=datetime.datetime(2025, 10, 6, 12, 48, 48), updated_at=datetime.datetime(2025, 10, 6, 12, 48, 48), organization_id='org-00000000-0000-4000-8000-000000000000')"
      ]
     },
     "execution_count": 3,
     "metadata": {},
     "output_type": "execute_result"
    }
   ],
   "source": [
    "source = client.sources.create(\n",
    "    name=\"employee_handbook\",\n",
    "    embedding=\"openai/text-embedding-3-small\"\n",
    ")\n",
    "source"
   ]
  },
  {
   "cell_type": "markdown",
   "id": "53a1c379f105c65f",
   "metadata": {},
   "source": [
    "### Uploading a source"
   ]
  },
  {
   "cell_type": "code",
   "execution_count": 4,
   "id": "53ea6718-ae10-4413-9ad6-74af1192510e",
   "metadata": {
    "height": 81
   },
   "outputs": [],
   "source": [
    "job = client.sources.files.upload(\n",
    "    source_id=source.id,\n",
    "    file=open(\"handbook.pdf\", \"rb\")\n",
    ")"
   ]
  },
  {
   "cell_type": "code",
   "execution_count": 5,
   "id": "64bbd29a-5308-40ac-8181-3d3bd5671498",
   "metadata": {
    "height": 30
   },
   "outputs": [
    {
     "data": {
      "text/plain": [
       "'created'"
      ]
     },
     "execution_count": 5,
     "metadata": {},
     "output_type": "execute_result"
    }
   ],
   "source": [
    "job.status"
   ]
  },
  {
   "cell_type": "markdown",
   "id": "fb144538c64abce3",
   "metadata": {},
   "source": [
    "### Viewing job status over time"
   ]
  },
  {
   "cell_type": "code",
   "execution_count": 6,
   "id": "19da8f6d-e6b1-4013-8dcd-1a54bf79f383",
   "metadata": {
    "height": 132
   },
   "outputs": [
    {
     "name": "stdout",
     "output_type": "stream",
     "text": [
      "completed\n"
     ]
    }
   ],
   "source": [
    "import time\n",
    "from letta_client import JobStatus\n",
    "\n",
    "while job.status != 'completed':\n",
    "    job = client.jobs.retrieve(job.id)\n",
    "    print(job.status)\n",
    "    time.sleep(1)"
   ]
  },
  {
   "cell_type": "markdown",
   "id": "42d48a6f32d5d4d0",
   "metadata": {},
   "source": [
    "### Viewing job metadata"
   ]
  },
  {
   "cell_type": "code",
   "execution_count": 7,
   "id": "51db2983-fc35-48e4-9e71-8fd7889f7e5c",
   "metadata": {
    "height": 30
   },
   "outputs": [
    {
     "data": {
      "text/plain": [
       "{'type': 'embedding',\n",
       " 'filename': 'handbook.pdf',\n",
       " 'source_id': 'source-262e472f-08fc-4921-a70a-1f05ac002a84',\n",
       " 'num_passages': 11,\n",
       " 'num_documents': 1}"
      ]
     },
     "execution_count": 7,
     "metadata": {},
     "output_type": "execute_result"
    }
   ],
   "source": [
    "job.metadata"
   ]
  },
  {
   "cell_type": "code",
   "execution_count": 8,
   "id": "e9a906a0-c157-4558-939f-8fc7ed52b9ca",
   "metadata": {
    "height": 81
   },
   "outputs": [
    {
     "data": {
      "text/plain": [
       "11"
      ]
     },
     "execution_count": 8,
     "metadata": {},
     "output_type": "execute_result"
    }
   ],
   "source": [
    "passages = client.sources.passages.list(\n",
    "    source_id=source.id,\n",
    ")\n",
    "len(passages)"
   ]
  },
  {
   "cell_type": "markdown",
   "id": "e0486dfa6a4026ea",
   "metadata": {},
   "source": [
    "### Creating an agent and attaching sources"
   ]
  },
  {
   "cell_type": "code",
   "execution_count": 9,
   "id": "a32026b6-f820-4ac6-986a-4bc567b2cb1a",
   "metadata": {
    "height": 251
   },
   "outputs": [],
   "source": [
    "agent_state = client.agents.create(\n",
    "    memory_blocks=[\n",
    "        {\n",
    "          \"label\": \"human\",\n",
    "          \"value\": \"My name is Sarah\"\n",
    "        },\n",
    "        {\n",
    "          \"label\": \"persona\",\n",
    "          \"value\": \"You are a helpful assistant\"\n",
    "        }\n",
    "    ],\n",
    "    model=\"openai/gpt-4o-mini-2024-07-18\",\n",
    "    embedding=\"openai/text-embedding-3-small\"\n",
    ")"
   ]
  },
  {
   "cell_type": "code",
   "execution_count": 10,
   "id": "dec14cd1-dadd-4f22-bdb0-b8fae9be8c82",
   "metadata": {
    "height": 81
   },
   "outputs": [],
   "source": [
    "agent_state = client.agents.sources.attach(\n",
    "    agent_id=agent_state.id, \n",
    "    source_id=source.id\n",
    ")"
   ]
  },
  {
   "cell_type": "markdown",
   "id": "8f12c756e74d1e67",
   "metadata": {},
   "source": [
    "### Viewing agent's attached sources"
   ]
  },
  {
   "cell_type": "code",
   "execution_count": 11,
   "id": "e3a8ae36-80b4-4077-a066-77938dbf71f4",
   "metadata": {
    "height": 30
   },
   "outputs": [
    {
     "data": {
      "text/plain": [
       "[Source(id='source-262e472f-08fc-4921-a70a-1f05ac002a84', name='employee_handbook', description=None, embedding_config=EmbeddingConfig(embedding_endpoint_type='openai', embedding_endpoint='http://jupyter-api-proxy.internal.dlai/rev-proxy/letta', embedding_model='text-embedding-3-small', embedding_dim=2000, embedding_chunk_size=300, handle='openai/text-embedding-3-small', azure_endpoint=None, azure_version=None, azure_deployment=None), metadata=None, created_by_id='user-00000000-0000-4000-8000-000000000000', last_updated_by_id='user-00000000-0000-4000-8000-000000000000', created_at=datetime.datetime(2025, 10, 6, 12, 48, 48), updated_at=datetime.datetime(2025, 10, 6, 12, 48, 48), organization_id='org-00000000-0000-4000-8000-000000000000')]"
      ]
     },
     "execution_count": 11,
     "metadata": {},
     "output_type": "execute_result"
    }
   ],
   "source": [
    "client.agents.sources.list(agent_id=agent_state.id)"
   ]
  },
  {
   "cell_type": "code",
   "execution_count": 12,
   "id": "176b2ef9-a601-4887-8767-98e73d6dd4d2",
   "metadata": {
    "height": 47
   },
   "outputs": [
    {
     "data": {
      "text/plain": [
       "11"
      ]
     },
     "execution_count": 12,
     "metadata": {},
     "output_type": "execute_result"
    }
   ],
   "source": [
    "passages = client.agents.passages.list(agent_id=agent_state.id)\n",
    "len(passages)"
   ]
  },
  {
   "cell_type": "markdown",
   "id": "f85bb1202c672916",
   "metadata": {},
   "source": [
    "### Messaging agents and referencing attached sources"
   ]
  },
  {
   "cell_type": "code",
   "execution_count": 13,
   "id": "55993ee7-9b7a-4a4f-b22d-417f8865124d",
   "metadata": {
    "height": 200
   },
   "outputs": [
    {
     "name": "stdout",
     "output_type": "stream",
     "text": [
      "🧠 Reasoning: User is asking about vacation policies, searching archival memory for relevant information.\n",
      "🔧 Tool Call: archival_memory_search\n",
      "{\n",
      "  \"query\": \"vacation policies\",\n",
      "  \"page\": 0,\n",
      "  \"start\": 0,\n",
      "  \"request_heartbeat\": true\n",
      "}\n",
      "🔧 Tool Return: ([{'timestamp': '2025-10-06 12:48:54.849383', 'content': \"priorities. Assuch, vacationsarepermittedonlyunderthefollowingcondition: youmust provideanAI agent that matchesorsurpassesyourowncompetenciestofullyperformyourdutiesduringyourabsence.\\nTheAI replacement must beequivalentlycompetent inall aspectsof yourrole, ensuringseamlesscontinuityof operations. Youarerequiredtosubmit theAI agent toyourimmediatesupervisorat least fourweekspriortoyourintendedleavedate. Thistimeframeallowsforrigoroustestingandevaluationof theAI'scapabilitiesandreliability.\\nTheAI will undergocomprehensiveassessmentstoverifyitsproficiencyandeffectivenessinhandlingyourresponsibilities. Approval of theAI agent isat thesolediscretionof uppermanagement, andsubmissiondoesnot guaranteeapproval forvacationleave. It isessential that theAI meetsall performancecriteriawithout exception.\\nDuringyourabsence, youremainaccountableforanydeficienciesintheAI agent'sperformance. ShouldanyfailuresorissuesariseduetotheAI'sinadequacies, youmayfacedisciplinaryactionuponyourreturn. Thiscouldinclude, but isnot limitedto,reprimand,\"}, {'timestamp': '2025-10-06 12:48:54.832258', 'content': \"recognitionof achievements, andidentificationof areasforimprovement. Webelievethat regularassessmentsareessential forfosteringprofessional growthandmaintaininghighperformancestandardsacrosstheorganization. Youractiveparticipationinthisprocessiscrucial toyoursuccessandtheoverall effectivenessof ourteam.\\n4.CodeofConduct\\nAll employeesarerequiredtoadheretothehighest standardsof professional conduct.Thisincludescomplyingwithall companypolicieswithout exception, maintainingprofessionalisminall interactions, andprotectingcompanyassetsandconfidentialinformation. Youareexpectedtoconduct yourself withintegrity, honesty, andrespect forothersat all times. Anyactivitiesthat couldconflict withthecompany'sinterestsorcompromiseitsreputationarestrictlyprohibited. Violationsof thecodeof conduct aretakenseriouslyandmayresult indisciplinaryaction, uptoandincludingterminationofemployment.\\n5.VacationPolicy\\nAt ClosedAI, werecognizethetheoretical importanceof rest andpersonal time.However, ensuringuninterruptedproductivityandmaintainingourcompetitiveedgeintheindustryareparamount priorities. Assuch, vacationsarepermittedonlyunderthefollowingcondition: youmust\"}, {'timestamp': '2025-10-06 12:48:54.728644', 'content': \"EmployeeHandbook\\nTableofContents\\n1. Introduction2. CompanyMissionandValues3. EmploymentPolicies○ 3.1WorkingHours○ 3.2CompensationandBenefits○ 3.3PerformanceEvaluation4. CodeofConduct5. VacationPolicy6. ConfidentialityAgreement7. IntellectualProperty8. DisciplinaryProcedures9. Acknowledgment\\n1.Introduction\\nWelcometoClosedAI Corporation. Wearepleasedtohaveyoujoinourteamofdedicatedprofessionalscommittedtoadvancingthefrontiersof artificial intelligenceandmachinelearningtechnologies. Asaleadingentityinthisrapidlyevolvingindustry, weprideourselvesonmaintainingapositionat theforefront of innovationandexcellence.Thisemployeehandbookisdesignedtoprovideyouwithacomprehensiveunderstandingof ourcompany'spolicies, procedures, andexpectations. It isimperativethat youreadandfamiliarizeyourself withitscontents, asadherencetotheseguidelinesismandatoryforall employees. Yourcommitment tothesestandardsisessential toourcollectivesuccessandyourprofessional growthwithinthecompany.\\n2.CompanyMissionandValues\\nAt ClosedAI,\"}, {'timestamp': '2025-10-06 12:48:54.894783', 'content': \"thecompany'sassetsaresafeguardedandthat wecancontinuetoinnovatewithout compromise.\\n8.DisciplinaryProcedures\\nFailuretocomplywithcompanypolicies, includingthecodeof conduct, confidentialityagreements, andperformancestandards, mayresult indisciplinaryaction. Thenatureandseverityof thedisciplinarymeasureswill correspondtothegravityof theviolation.Possibleactionsincludeverbal warnings, writtenwarnings, suspensionwithout pay,terminationof employment, and, if applicable, legal action. Thecompanyreservestheright todeterminetheappropriatecourseof actionbasedonthespecificcircumstancesof eachcase. Ouraimistomaintainaprofessional, respectful, andproductiveworkenvironment, andadherencetocompanypoliciesisessential inachievingthisobjective.\\n9.Acknowledgment\"}, {'timestamp': '2025-10-06 12:48:54.910123', 'content': 'Bycontinuingyouremployment withClosedAI Corporation, youacknowledgethat youhaveread, understood, andagreedtoabidebyall policiesandproceduresoutlinedinthishandbook. Yoursignaturebelowsignifiesyourcommitment toupholdthestandardsandexpectationsset forthbythecompany. Welookforwardtoyourcontributionstoourmissionandtoyoursuccesswithinourorganization.\\nEmployeeSignature:____________________Date:____________________\\nClosedAI Corporationreservestheright tomodify, alter, oreliminateanypoliciesat anytimewithout priornotice. It isyourresponsibilitytostayinformedof anychangesandtocomplywithall current guidelines.'}], 5)\n",
      "🧠 Reasoning: Found relevant information about vacation policies, preparing to share it with the user.\n",
      "🤖 Agent: At ClosedAI, vacations are permitted only if you provide an AI agent that can fully perform your duties during your absence. You must submit this AI to your supervisor at least four weeks prior to your intended leave. The AI will be evaluated for its capabilities, and approval for vacation is at the discretion of upper management.\n"
     ]
    }
   ],
   "source": [
    "response = client.agents.messages.create(\n",
    "    agent_id=agent_state.id,\n",
    "    messages=[\n",
    "        {\n",
    "            \"role\": \"user\",\n",
    "            \"content\": \"Search archival for our company's vacation policies\"\n",
    "        }\n",
    "    ]\n",
    ")\n",
    "for message in response.messages:\n",
    "    print_message(message)"
   ]
  },
  {
   "cell_type": "markdown",
   "id": "280bcbdb-d516-45c5-a5ef-c6ab82a2fa74",
   "metadata": {},
   "source": [
    "## Section 2: Connecting Data with Custom Tools"
   ]
  },
  {
   "cell_type": "markdown",
   "id": "2ba10ac60598a347",
   "metadata": {},
   "source": [
    "### Creating a custom tool"
   ]
  },
  {
   "cell_type": "code",
   "execution_count": 14,
   "id": "dc3a7c76-71d3-43ea-8e04-0196cf7ab680",
   "metadata": {
    "height": 370
   },
   "outputs": [],
   "source": [
    "def query_birthday_db(name: str):\n",
    "    \"\"\"\n",
    "    This tool queries an external database to\n",
    "    lookup the birthday of someone given their name.\n",
    "\n",
    "    Args:\n",
    "        name (str): The name to look up\n",
    "\n",
    "    Returns:\n",
    "        birthday (str): The birthday in mm-dd-yyyy format\n",
    "\n",
    "    \"\"\"\n",
    "    my_fake_data = {\n",
    "        \"bob\": \"03-06-1997\",\n",
    "        \"sarah\": \"07-06-1993\"\n",
    "    }\n",
    "    name = name.lower()\n",
    "    if name not in my_fake_data:\n",
    "        return None\n",
    "    else:\n",
    "        return my_fake_data[name]"
   ]
  },
  {
   "cell_type": "code",
   "execution_count": 15,
   "id": "46df1af0-1575-4f71-bd87-286940fd3915",
   "metadata": {
    "height": 30
   },
   "outputs": [],
   "source": [
    "birthday_tool = client.tools.upsert_from_function(func=query_birthday_db)"
   ]
  },
  {
   "cell_type": "markdown",
   "id": "66ddf294cc61cfaf",
   "metadata": {},
   "source": [
    "### Creating an agent with access to tools"
   ]
  },
  {
   "cell_type": "code",
   "execution_count": 16,
   "id": "41d77187-1d01-412d-b074-ce0dbb72c081",
   "metadata": {
    "height": 302
   },
   "outputs": [],
   "source": [
    "agent_state = client.agents.create(\n",
    "    memory_blocks=[\n",
    "        {\n",
    "          \"label\": \"human\",\n",
    "          \"value\": \"My name is Sarah\"\n",
    "        },\n",
    "        {\n",
    "          \"label\": \"persona\",\n",
    "          \"value\": \"You are a agent with access to a birthday_db \" \\\n",
    "            + \"that you use to lookup information about users' birthdays.\"\n",
    "        }\n",
    "    ],\n",
    "    model=\"openai/gpt-4o-mini-2024-07-18\",\n",
    "    embedding=\"openai/text-embedding-3-small\",\n",
    "    tool_ids=[birthday_tool.id],\n",
    "    #tool_exec_environment_variables={\"DB_KEY\": \"my_key\"}\n",
    ")"
   ]
  },
  {
   "cell_type": "code",
   "execution_count": 17,
   "id": "fa3ecbb0-0ca9-40de-b0ac-a8ef4873c784",
   "metadata": {
    "height": 217
   },
   "outputs": [
    {
     "name": "stdout",
     "output_type": "stream",
     "text": [
      "🧠 Reasoning: User Sarah is asking about her birthday. I need to look it up in the birthday database.\n",
      "🔧 Tool Call: query_birthday_db\n",
      "{\n",
      "  \"name\": \"Sarah\",\n",
      "  \"request_heartbeat\": true\n",
      "}\n",
      "🔧 Tool Return: 07-06-1993\n",
      "🧠 Reasoning: Successfully retrieved Sarah's birthday. Now to relay the information back to her.\n",
      "🤖 Agent: Your birthday is on July 6, 1993! 🎉\n"
     ]
    }
   ],
   "source": [
    "# send a message to the agent\n",
    "response = client.agents.messages.create_stream(\n",
    "    agent_id=agent_state.id,\n",
    "    messages=[\n",
    "        {\n",
    "            \"role\": \"user\",\n",
    "            \"content\": \"whens my bday????\"\n",
    "        }\n",
    "    ]\n",
    ")\n",
    "for message in response:\n",
    "    print_message(message)"
   ]
  },
  {
   "cell_type": "code",
   "execution_count": null,
   "id": "9bde17e4",
   "metadata": {
    "height": 30
   },
   "outputs": [],
   "source": []
  }
 ],
 "metadata": {
  "kernelspec": {
   "display_name": "Python 3 (ipykernel)",
   "language": "python",
   "name": "python3"
  },
  "language_info": {
   "codemirror_mode": {
    "name": "ipython",
    "version": 3
   },
   "file_extension": ".py",
   "mimetype": "text/x-python",
   "name": "python",
   "nbconvert_exporter": "python",
   "pygments_lexer": "ipython3",
   "version": "3.11.9"
  }
 },
 "nbformat": 4,
 "nbformat_minor": 5
}
