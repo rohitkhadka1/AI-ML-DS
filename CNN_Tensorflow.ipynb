{
<<<<<<< HEAD
 "cells": [
  {
   "cell_type": "code",
   "execution_count": null,
   "id": "04067f55",
   "metadata": {},
   "outputs": [],
   "source": [
    "import tensorflow as tf \n"
   ]
  }
 ],
 "metadata": {
  "kernelspec": {
   "display_name": "Python 3",
   "language": "python",
   "name": "python3"
  },
  "language_info": {
   "name": "python",
   "version": "3.12.4"
  }
 },
 "nbformat": 4,
 "nbformat_minor": 5
}
=======
  "nbformat": 4,
  "nbformat_minor": 0,
  "metadata": {
    "colab": {
      "provenance": [],
      "gpuType": "T4",
      "authorship_tag": "ABX9TyNWO0xOWKa5yrf1dtJi4RT2",
      "include_colab_link": true
    },
    "kernelspec": {
      "name": "python3",
      "display_name": "Python 3"
    },
    "language_info": {
      "name": "python"
    },
    "accelerator": "GPU"
  },
  "cells": [
    {
      "cell_type": "markdown",
      "metadata": {
        "id": "view-in-github",
        "colab_type": "text"
      },
      "source": [
        "<a href=\"https://colab.research.google.com/github/rohitkhadka1/AI-ML-DS/blob/main/CNN_Tensorflow.ipynb\" target=\"_parent\"><img src=\"https://colab.research.google.com/assets/colab-badge.svg\" alt=\"Open In Colab\"/></a>"
      ]
    },
    {
      "cell_type": "code",
      "execution_count": null,
      "metadata": {
        "id": "bROwh4cpC826"
      },
      "outputs": [],
      "source": [
        "import tensorflow as tf\n",
        "from tensorflow.keras import datasets, layers, models\n",
        "import matplotlib.pyplot as plt\n",
        "import numpy as np\n",
        "from sklearn.metrics import confusion_matrix, classification_report\n"
      ]
    },
    {
      "cell_type": "code",
      "source": [
        "(X_train, y_train), (X_test, y_test) = datasets.cifar10.load_data()\n",
        "X_train.shape\n"
      ],
      "metadata": {
        "colab": {
          "base_uri": "https://localhost:8080/"
        },
        "id": "sPWdH__iDOm0",
        "outputId": "ced728ea-2d48-4e5e-c91d-47498ecf7a2c"
      },
      "execution_count": null,
      "outputs": [
        {
          "output_type": "stream",
          "name": "stdout",
          "text": [
            "Downloading data from https://www.cs.toronto.edu/~kriz/cifar-10-python.tar.gz\n",
            "\u001b[1m170498071/170498071\u001b[0m \u001b[32m━━━━━━━━━━━━━━━━━━━━\u001b[0m\u001b[37m\u001b[0m \u001b[1m14s\u001b[0m 0us/step\n"
          ]
        },
        {
          "output_type": "execute_result",
          "data": {
            "text/plain": [
              "(50000, 32, 32, 3)"
            ]
          },
          "metadata": {},
          "execution_count": 2
        }
      ]
    },
    {
      "cell_type": "code",
      "source": [
        "X_test.shape"
      ],
      "metadata": {
        "colab": {
          "base_uri": "https://localhost:8080/"
        },
        "id": "r8IQL9JoDmxv",
        "outputId": "7fca34a4-87ea-4354-f610-4e52351f4ed1"
      },
      "execution_count": null,
      "outputs": [
        {
          "output_type": "execute_result",
          "data": {
            "text/plain": [
              "(10000, 32, 32, 3)"
            ]
          },
          "metadata": {},
          "execution_count": 3
        }
      ]
    },
    {
      "cell_type": "code",
      "source": [
        "classes = ['airplane', 'automobile', 'bird', 'cat', 'deer', 'dog', 'frog', 'horse', 'ship', 'truck']"
      ],
      "metadata": {
        "id": "DG0CIljoEP1M"
      },
      "execution_count": null,
      "outputs": []
    },
    {
      "cell_type": "code",
      "source": [
        "plt.imshow(X_train[1])"
      ],
      "metadata": {
        "colab": {
          "base_uri": "https://localhost:8080/",
          "height": 447
        },
        "id": "Sp19Bc98DonG",
        "outputId": "0a65f162-8946-4267-e12c-282c8e49e069"
      },
      "execution_count": null,
      "outputs": [
        {
          "output_type": "execute_result",
          "data": {
            "text/plain": [
              "<matplotlib.image.AxesImage at 0x7d152ec9e550>"
            ]
          },
          "metadata": {},
          "execution_count": 4
        },
        {
          "output_type": "display_data",
          "data": {
            "text/plain": [
              "<Figure size 640x480 with 1 Axes>"
            ],
            "image/png": "iVBORw0KGgoAAAANSUhEUgAAAaAAAAGdCAYAAABU0qcqAAAAOnRFWHRTb2Z0d2FyZQBNYXRwbG90bGliIHZlcnNpb24zLjEwLjAsIGh0dHBzOi8vbWF0cGxvdGxpYi5vcmcvlHJYcgAAAAlwSFlzAAAPYQAAD2EBqD+naQAAMWxJREFUeJzt3X101PWd//3XTDIzuZ8QQu4gQLj1hhtbKphqrRVWYK+fRyu/vbTtOYtdjx7d4LXKdtuyp9Xa3T1x7TmtbQ/FP9aV7bmKtu5V9Ke71SpK7A3QhUoRbyJgFBASIJD7zE1mvtcfrtmmgrw/kPAh4fk4Z84hmTfvfL7z/c68883MvCYUBEEgAADOsbDvBQAALkwMIACAFwwgAIAXDCAAgBcMIACAFwwgAIAXDCAAgBcMIACAF7m+F/CnstmsDh06pOLiYoVCId/LAQA4CoJA3d3dqqmpUTh86vOc824AHTp0SLW1tb6XAQA4SwcOHNCkSZNOef2IDaC1a9fqO9/5jlpbWzV//nz98Ic/1MKFC0/7/4qLiyVJ//zoBuUVFJh+1qG3d5rXdey9ZnOtJGUy9puoYtIsp96T6maba0srT70TTyYv377uvW9uc+q9/53dTvUDPb3m2hyH21uSiktLzLW5Mdvx9KEFV3zaXDtthtu+T3SdcKp/841d5tpsNuXUOz2QMNe+9eYbTr27O9vNtclU0qn3QDrHXHvieL9T754++20iSQMZ+21eXj7OqXfpuEJzbTboceo9MGCvTfTbU9vS6QG98Pwrg4/npzIiA+inP/2pVq9erUceeUSLFi3Sww8/rKVLl6q5uVkVFRUf+38//LNbXkGB8gtsN3wsL8+8tmg0aq6V3AaQyzokKd84YCWpoLDIqbfLAMrLz3fqHYvFnOrDqbS51nUAuawlN89t3QWF9jt+0WnuaB9ZS9Z+m0hSQYF9H2Wz9gdmSUql7X/qjsXc7j/JaMRcGyjr1Dsk+3bm5rrd3rm5jg+NoYy5NBJx6x11uA0zgVtvl2c5MgPusaGnexplRF6E8N3vfle33367vvzlL+uSSy7RI488ooKCAv3rv/7rSPw4AMAoNOwDKJVKaceOHVqyZMn//JBwWEuWLNGWLVs+Up9MJtXV1TXkAgAY+4Z9AB07dkyZTEaVlZVDvl9ZWanW1taP1Dc2Nioejw9eeAECAFwYvL8PaM2aNers7By8HDhwwPeSAADnwLC/CKG8vFw5OTlqa2sb8v22tjZVVVV9pD4Wizk/qQ0AGP2G/QwoGo1qwYIF2rRp0+D3stmsNm3apPr6+uH+cQCAUWpEXoa9evVqrVy5Up/61Ke0cOFCPfzww+rt7dWXv/zlkfhxAIBRaEQG0M0336yjR4/qvvvuU2trqy677DI999xzH3lhAgDgwjViSQirVq3SqlWrzvj/d3ecUDppe2f0+NIyc99ggtsQDHLt77SvnjzNqXfG4c2I4WyfU+9sn/0tzokT9nerS1LQ7/Yu8YnlH//m4z82uXaGU+/aGVPMtTUT3dIkKirsx0ok4vY85kCpWypD7aSPPn96yt4DbkkIiYQ9JaDjhNs77Y8dO26uzY26vZFbIfsbUceNd9s/eYVuyQmdDskWsTy3h91sYL8vR3LdtrOrs8Ncm0ra34g6kLat2fur4AAAFyYGEADACwYQAMALBhAAwAsGEADACwYQAMALBhAAwAsGEADACwYQAMALBhAAwIsRi+I5a+m0ZPwc91TSHmnT1+cWUzJ11kRzbU9vr1PvVNoeaVNWHnfqnRux/24xc+Ysp96fvuJTTvUTK+0ROPH4BKfe6dyMubYgzy2mJNeePKLQgD0uRZL6e90ibZJp+zFekO8W8zOu1B6VNH3aJU6933yz2V4csm+jJCWT9niqeMk4p96RqFO5OrvaTl/03wK5PQZls/YD8cQJt8eg/j5b3JkkBQ73h4EMUTwAgPMYAwgA4AUDCADgBQMIAOAFAwgA4AUDCADgBQMIAOAFAwgA4AUDCADgBQMIAOAFAwgA4MV5mwU3kEhoIBQy1YYG7HlgsWi+0zo6jx0z146vsmeeSdLkS2eYaytqa5x6R1zCrAbcMrjSA/YMO0l663C7ubbvnaNuawnbc7WaX/uDU+/LL7bnnl298HKn3oFLsJakrq5Oc+3+9w459Y5G8uy10RKn3uUT7FmK+w/sceodzbNn3vX0u2WkdXXZ7/eSlBuxPVZJUkmJW1Zff789884YwTZoYCBrro3FHB5TjIc3Z0AAAC8YQAAALxhAAAAvGEAAAC8YQAAALxhAAAAvGEAAAC8YQAAALxhAAAAvGEAAAC/O2yieZH+fQoEtJqIo3x4lUlI2wWkdn5x/mbm2dtpMp97dA/bcjOZ3Djj17uqzx3f0dHQ49W7vsEfrSNLh1hPm2pK42/5ROGkuffan/59T68j/bf/97LP1V7n1jrjFH1VVOUQxBW4xMh0nus21v391l1Pv3EjMXFtY7BbzM5Cxxxmlejqceuc4/mo+YUKZuTaTscdHSVL7cfv+DMst5ic31z4CSkvj5tp02nZ8cwYEAPCCAQQA8IIBBADwggEEAPCCAQQA8IIBBADwggEEAPCCAQQA8IIBBADwggEEAPCCAQQA8OK8zYKLxXIVi0VMtemcYnPf/vwip3W0dPWba3f++ndOvY+395hr3z/U5tQ7khOy14ZtmXsfSg64ZVklEvb66gluh+SR1vfMtSWxqFPv7o4uc+3bLS1Ovaury53qIxH77VJdW+XUu8ahfn+rWyZh82v2+opqtxzAd/c7ZN6l3Y7xbMqtPpObMdfmRe35eJIUy7U9DkpSf8K+DkkqKbHn7+Xm2tcdZG3nNpwBAQC8GPYB9K1vfUuhUGjI5aKLLhruHwMAGOVG5E9wl156qV588cX/+SEOkd8AgAvDiEyG3NxcVVW5/R0aAHBhGZHngPbs2aOamhpNmzZNX/rSl7R///5T1iaTSXV1dQ25AADGvmEfQIsWLdL69ev13HPPad26dWppadFnPvMZdXef/FMXGxsbFY/HBy+1tbXDvSQAwHlo2AfQ8uXL9Rd/8ReaN2+eli5dqv/8z/9UR0eHfvazn520fs2aNers7By8HDjg9jJPAMDoNOKvDigtLdWsWbO0d+/ek14fi8UUi7m9Lh4AMPqN+PuAenp6tG/fPlVXV4/0jwIAjCLDPoC+8pWvqKmpSe+++65++9vf6vOf/7xycnL0hS98Ybh/FABgFBv2P8EdPHhQX/jCF9Te3q4JEyboqquu0tatWzVhglvMRn5+hfLzC0y1RzoGzH33Oj7H9Mbru821YYe4FEnKJNPm2v7uXqfeOQ7xOv1Jt1cednS71Xf32iOH3j34plPvwnx7DNPs6bOdesshcug3v9rs1HpKXZ1T/azZs8y148fHnXrH8uzHbbzE7c/l4YFOc21v0u334f6+pL224+QvgjqVTCbhVJ+Xb4/L6elyW0tJsT0uJ5aX49Q7lbI/BvX19Zlr02nbY/KwD6AnnnhiuFsCAMYgsuAAAF4wgAAAXjCAAABeMIAAAF4wgAAAXjCAAABeMIAAAF4wgAAAXjCAAABeMIAAAF6M+McxnKnSceOVX1Boqt174G1z38PvtjitoyBiz5vq7D3h1Lun64i5NpS1Z7tJUke3PX+to98t9yo3Zs+9kqTyygpzbX6xW47ZxKnzzbW1jjlZLX/YYq7NCdlz4yQpnck41R891m6unTv3YqfeM2ZOM9fWVrtlOhZd8Qlz7a63Tv3JySeTTOTZayNu95+s7PlrkpQN7HmUra2HnHpHHT6uJj7Ofl/7gD1jsr+/31xrzYLjDAgA4AUDCADgBQMIAOAFAwgA4AUDCADgBQMIAOAFAwgA4AUDCADgBQMIAOAFAwgA4MV5G8XT0rJDsTxb1MZb+/aa+x46vM9pHZlue1RFcdwWHfSh2TOnmmvnXDzHqffho/bYjPeO2rdRkiZUVTrVT5leZ64tHu8WJdJ2wr724JhbDNP+9+zRMEc77FE5knTxJU7l+rNZ9nid3h77vpekrEMqUJByixx6fas9zmjm7MuceldOLDXXbv3dK069W9u6nOqt0TOSlOh3uw1PnOg21+YXlTr1zgb2iKLePvt9bWDAdlBxBgQA8IIBBADwggEEAPCCAQQA8IIBBADwggEEAPCCAQQA8IIBBADwggEEAPCCAQQA8IIBBADw4rzNgvuv37ys3IhtebmVs819p18812kd+Sl7VtLFl8x06j171iRzbSaR49Q7CNvzwHp1zKl3bsSW0fehnJxSc216IObUu7f7uLk2nrLndUnSQCYw1+4/csKpd17R+0718ZJx5tpp06c69Q4cfg/t7+hz6v3Wtp32dfTb72uSNGfpMnPt3HnTnHr3b3fLgtu3911zbUFBkVPveOl4h2qHYD9JXV324zaZtO97suAAAOc1BhAAwAsGEADACwYQAMALBhAAwAsGEADACwYQAMALBhAAwAsGEADACwYQAMALBhAAwIvzNgvu6Pvtysmx5Z99Yv7/Ze4bi01wWkeZQwRbdU2JU+/jHd3m2gN77ZlnkpTK2jPVwiG3/KicXLfMrkyQtBcPuB2SmaQ98y7IuK27KF5urm3v6XXqHY4WOtVnA3suneRSK8nhZinKczvGp9bUmmvzctzWHVaPuXbunDqn3qWlpU71/6f/l+ba1sNuuYETK2rMtZlQwql3xJi3KUldXfZ8vHR6QNLbp63jDAgA4IXzAHrllVd0/fXXq6amRqFQSE899dSQ64Mg0H333afq6mrl5+dryZIl2rNnz3CtFwAwRjgPoN7eXs2fP19r16496fUPPfSQfvCDH+iRRx7Rtm3bVFhYqKVLlyqRcDs1BACMbc7PAS1fvlzLly8/6XVBEOjhhx/WN77xDd1www2SpB//+MeqrKzUU089pVtuueXsVgsAGDOG9TmglpYWtba2asmSJYPfi8fjWrRokbZs2XLS/5NMJtXV1TXkAgAY+4Z1ALW2tkqSKisrh3y/srJy8Lo/1djYqHg8PniprbW/agYAMHp5fxXcmjVr1NnZOXg5cOCA7yUBAM6BYR1AVVVVkqS2trYh329raxu87k/FYjGVlJQMuQAAxr5hHUB1dXWqqqrSpk2bBr/X1dWlbdu2qb6+fjh/FABglHN+FVxPT4/27t07+HVLS4t27typsrIyTZ48Wffcc4/+8R//UTNnzlRdXZ2++c1vqqamRjfeeONwrhsAMMo5D6Dt27frc5/73ODXq1evliStXLlS69ev11e/+lX19vbqjjvuUEdHh6666io999xzysvLc/o5+YXjlJtrW17EIcGjo+OI0zpiZaXm2r4Bt6gXl7dG5Y8rduody4YcFuIWxRM4HjWJdJ+5Ni/frXk4lDLXZsNuvYvG2yNQooFbVFJO/jin+iBqz4TKhuy3tySFMvZYoHCO220YKYyaa/OL7LWSNJC0R1m1v992+qI/Mr7QLbLrhj9faq7d/od3nXr39NuP8UTyqFPvZL89yqq0uNRcm0qlTXXOA+iaa65R8DG5VKFQSN/+9rf17W9/27U1AOAC4v1VcACACxMDCADgBQMIAOAFAwgA4AUDCADgBQMIAOAFAwgA4AUDCADgBQMIAOAFAwgA4IVzFM+5UlU7RZGILRsqFLbP0UTC7RNX27rsN1G0tNypd3rAnn0VikScevf39NjXEbj9HpKbG3OqH8ix1xc4fhxHxfgOc21w3J57JUmp9IC5NpR1uw3z8/Od6sP2KDhlA/u6JSmTsWcBhiMOC5EU5Nhvl55ee7abJIWy9uzFmMNjhCR1HXXLjssvKDPXXl0/z6l38773zLW73zj5B3+eSk9Xr7k2GrHneaaN9x3OgAAAXjCAAABeMIAAAF4wgAAAXjCAAABeMIAAAF4wgAAAXjCAAABeMIAAAF4wgAAAXpy3UTxBKEdByBb7YY19kKS+bre4j5hDZEp313Gn3qlE0lzb1+W27kjIXltc6BatM2GcPXZEkkrKCu29S90iajK5cXNtf8wtoub4lBpzbTJz2Km30n1O5ZmBlLk2m3XY+ZIyYXukTcgxiqe0bJy5NptxvE0c7vfxuNtxFQ0FTvUd3R3m2iBtj8mSpMsurjLXlha73ZefffaX5tqjbcfMtQMDtngnzoAAAF4wgAAAXjCAAABeMIAAAF4wgAAAXjCAAABeMIAAAF4wgAAAXjCAAABeMIAAAF4wgAAAXpy3WXAaSEnGSKvcrD0nK57ntozauD1X66JppU69i/Ls+VQ5IbffFXq7Osy1ib5Op975hWmn+tkz7dlxtVMmOfUOR6aYa3s6Opx611ZXm2tntxxx6l1S5nYglo0rMdfm5kademcdYs8Ctyg45RUWmGsHEm5ZfWGHdUfCbvefhOw5jZI0vrzIXNvT55Z519vRaq6dOGGCU+8br7/OXPvUf7xorrXmc3IGBADwggEEAPCCAQQA8IIBBADwggEEAPCCAQQA8IIBBADwggEEAPCCAQQA8IIBBADw4ryN4rly4WXKN0bVTLtkvrnvofffd1rHxBp7jMysmdOdeldNqDDX5gT2SCBJ6u7uMNcm027RIKGw21qKCgvttUVuETU5UXucUcQhskmS+nuPmms/OcceCSRJU2dNdapPZ+3xR4Hj75UDWXsETpDjtu9zIvaHmHTCIVtHUtYY9yJJ4Vy32ySU57adcuifTLtFWeXmRMy1mVSHU+8JDhFCV33mcnNtfyKpjf/n5dPWcQYEAPCCAQQA8MJ5AL3yyiu6/vrrVVNTo1AopKeeemrI9bfeeqtCodCQy7Jly4ZrvQCAMcJ5APX29mr+/Plau3btKWuWLVumw4cPD14ef/zxs1okAGDscX4RwvLly7V8+fKPrYnFYqqqqjrjRQEAxr4ReQ5o8+bNqqio0OzZs3XXXXepvb39lLXJZFJdXV1DLgCAsW/YB9CyZcv04x//WJs2bdI///M/q6mpScuXL1cmkzlpfWNjo+Lx+OCltrZ2uJcEADgPDfv7gG655ZbBf8+dO1fz5s3T9OnTtXnzZi1evPgj9WvWrNHq1asHv+7q6mIIAcAFYMRfhj1t2jSVl5dr7969J70+FouppKRkyAUAMPaN+AA6ePCg2tvbVV1dPdI/CgAwijj/Ca6np2fI2UxLS4t27typsrIylZWV6YEHHtCKFStUVVWlffv26atf/apmzJihpUuXDuvCAQCjm/MA2r59uz73uc8Nfv3h8zcrV67UunXrtGvXLv3bv/2bOjo6VFNTo+uuu07/8A//oFgs5vRzPnHpLBUaM8Qu/YQ9C65/jlteW2Hc/ifBrFNnKQjZ86bCDnlQklRWaH8ZfOB4Hux62pzN2m+ZAYd8L0mSQ65WMtnv1Hr6jMnm2vyoPe9Okvp7O53qg7DDXTXkdrcOQvYMtmzglteWcTjGs1m33ql++/7MZN32TzjXLQsu7HCv6G53y158r+WAufbKqz7h1Lsv3W2uLXDIxwsZsyudB9A111yj4GMOwueff961JQDgAkQWHADACwYQAMALBhAAwAsGEADACwYQAMALBhAAwAsGEADACwYQAMALBhAAwAsGEADAi2H/PKDhkldYqHxjFlxRnj1nrrDAcZNzc8yljlFWCrlkwTnUfrAWe/5aNu2WYueaBxYK23/PGXBM1As73CxByO33raLSMnPtQMZt3Zms/biSJGXtGxro5B/+eCphlxsx43YcZnLtGYaBHO9AAylzaSjrdpvEHPdPJGM/tgoTbr2DNnvm3dF32px6T5o9yVx7LNxjbxy27UvOgAAAXjCAAABeMIAAAF4wgAAAXjCAAABeMIAAAF4wgAAAXjCAAABeMIAAAF4wgAAAXpy3UTxFJeNUXFRkqg1y7HEffUl7fIckBcmkuTbp2Lu3p9dcm0q79U4m0+bagQG3GJl02t77g3r72vv6+px69/V2m2sHsm7bWVwWt9fGS516lxaXO9XnRaPm2kzW7VhRaMBcGpa9VpKKi/PMte1H3Nad6LdHw2Sz45x6h2S/vSUpm7E/TpQU26PDJGnK5EpzbX+f/TFFkoKsfX/Gi23RaJIUybHFDXEGBADwggEEAPCCAQQA8IIBBADwggEEAPCCAQQA8IIBBADwggEEAPCCAQQA8IIBBADwggEEAPDivM2C+4//fEF5ebYcqUzkV+a+J060Oa2jp/OYuTYcOLV2yo5ra3NbdyZrX0zZhAqn3uPKxzvVx3Lsh1nv8Q6n3m/vedNc29Vjzw6TpNq6KebanIg9j1CSSordbsO6usnm2km1VW69p00015bFQk69i/Pst0s2XuLUW8a8MUlKZ9wy7HJy3X43z3G4XSqnOuYAltiz49JBxql3jkPkXVmZff/EYrb9zhkQAMALBhAAwAsGEADACwYQAMALBhAAwAsGEADACwYQAMALBhAAwAsGEADACwYQAMCL8zaK5+VfbVNuri3OoXTSbHPfIOMWx/Lqb182106ZNMmpd/l4exzL+wdbnXoPZO2RHAVlpU69U+GsU33bwQPm2sUL6516XzbvUnNtXzLh1Dscsd89Wva/59T77T37nOpf2/2qubY0XuTUe8X//ry59spLZzn1jgb233EnVdc69U45RPGEwm4RQtnALVcrLfv9LZzrFpcTK7VFkklSftjtnCKbY48DcwmbyjXedTgDAgB44TSAGhsbdfnll6u4uFgVFRW68cYb1dzcPKQmkUiooaFB48ePV1FRkVasWOEcpAkAGPucBlBTU5MaGhq0detWvfDCC0qn07ruuuvU29s7WHPvvffqmWee0ZNPPqmmpiYdOnRIN91007AvHAAwujk9B/Tcc88N+Xr9+vWqqKjQjh07dPXVV6uzs1OPPvqoNmzYoGuvvVaS9Nhjj+niiy/W1q1bdcUVVwzfygEAo9pZPQfU2dkpSSorK5Mk7dixQ+l0WkuWLBmsueiiizR58mRt2bLlpD2SyaS6urqGXAAAY98ZD6BsNqt77rlHV155pebMmSNJam1tVTQaVWlp6ZDayspKtbae/FVcjY2Nisfjg5faWrdXwgAARqczHkANDQ3avXu3nnjiibNawJo1a9TZ2Tl4OXDA/pJdAMDodUbvA1q1apWeffZZvfLKK5r0R+99qaqqUiqVUkdHx5CzoLa2NlVVnfxjgmOxmGIx+0fOAgDGBqczoCAItGrVKm3cuFEvvfSS6urqhly/YMECRSIRbdq0afB7zc3N2r9/v+rr3d5gCAAY25zOgBoaGrRhwwY9/fTTKi4uHnxeJx6PKz8/X/F4XLfddptWr16tsrIylZSU6O6771Z9fT2vgAMADOE0gNatWydJuuaaa4Z8/7HHHtOtt94qSfre976ncDisFStWKJlMaunSpfrRj340LIsFAIwdTgMoMOQj5eXlae3atVq7du0ZL0qSbvzfX1B+foGpNlYx09y3r9stU23Pa38w11ZXub2CL+yQ25SfV+LUO5XtN9fOmmO//SRpXHWFU31f+Thz7f9avuT0RX+koDjfXNvrmAWXdYgPGwjc8vESA25rOXLkuLn2vZZDTr0LCuzHVuvBdqfe776+x1wbTrjdJu+0HjHXLrzuU069p0ytcapPZwbMteG8qFNvRezZcaGsfR0f/Ad772jIfoxHI7YsPbLgAABeMIAAAF4wgAAAXjCAAABeMIAAAF4wgAAAXjCAAABeMIAAAF4wgAAAXjCAAABenNHHMZwLsUhYsahtPr791m5z365OtygeS/zQh9KplFPvnp5ec20o5JALIykvFjHXpvu6nXp3HrXfJpLUtt/+GU+/eP4XTr1PdNvX3tnT6dS7uMQeURMfV+bUu7DE7SNIDh60x+tUlE906p1XYo9W+tV/uO2f43t2mWszqbRT772tbebag71ux/jMi93iqeIlttgwSYqPizv1zi/Is/cutN/vJSmSl2OuLSiwH7OpAVtsD2dAAAAvGEAAAC8YQAAALxhAAAAvGEAAAC8YQAAALxhAAAAvGEAAAC8YQAAALxhAAAAvGEAAAC/O2yy47uNtGujPN9W+9PR/mPseaD3otI5wut9cu2tXl1NvOeS7DQwMOPa2ZTFJ0gvPvuTUOhpxyzG77BOfNNemosVOvbuSfebad/Yfcerd3v6muTaVsN/eknSo9V2n+pZ37Wv51CcWOPX+fxpWm2t/t3WLU++BznZzbVcy6dS7X/ZMwne22/MIJelXOw471Rfm2nPsIlF7/pok5cTs97dixyy4SVOmmmtvWHGLubavz7ZvOAMCAHjBAAIAeMEAAgB4wQACAHjBAAIAeMEAAgB4wQACAHjBAAIAeMEAAgB4wQACAHhx3kbxVFVUqqCg0FQ7c2qduW8gt8iU3LC9PschWkeSwjn2+R9k7bEjkhTNs912kqRInlPvmpqJTvXXLF1qri0uKHDqHc8bZ659Y/cfnHq/vXefubZq4lSn3onA7Xe/nHz77bL77becer/x9tvm2oKpFzv1PnTIvn/GldprJakiGjXXFhTZYr0+dLz1Paf69vf3mmuPHmtz6p3I2O/76azbY9DhDvsI+PRie+/+flstZ0AAAC8YQAAALxhAAAAvGEAAAC8YQAAALxhAAAAvGEAAAC8YQAAALxhAAAAvGEAAAC8YQAAAL87bLLgTx04okZ801V6x6NPmvp/+7Ged1hGL5Zhrcx2y3SQpHLbXZwO3DLsc2dedTmWceven+pzq2w+2mGuPJ9JOvY8fO26ufcch202SDh1pNdcWVdQ49VbMLX8vFLVnwaUGbPebD73Q9Gtz7ZTpc51615bZcwPzwm4PRwWRmLk2meh26v1O1+tO9UXFJebaTDDg1Lv1RI+5trx8qlPvvrT9ceWlpt+Za9PplKmOMyAAgBdOA6ixsVGXX365iouLVVFRoRtvvFHNzc1Daq655hqFQqEhlzvvvHNYFw0AGP2cBlBTU5MaGhq0detWvfDCC0qn07ruuuvU29s7pO7222/X4cOHBy8PPfTQsC4aADD6Of3R9bnnnhvy9fr161VRUaEdO3bo6quvHvx+QUGBqqqqhmeFAIAx6ayeA+rs7JQklZWVDfn+T37yE5WXl2vOnDlas2aN+vpO/aR1MplUV1fXkAsAYOw741fBZbNZ3XPPPbryyis1Z86cwe9/8Ytf1JQpU1RTU6Ndu3bpa1/7mpqbm/Xzn//8pH0aGxv1wAMPnOkyAACj1BkPoIaGBu3evVu//vXQl3Decccdg/+eO3euqqurtXjxYu3bt0/Tp0//SJ81a9Zo9erVg193dXWptrb2TJcFABglzmgArVq1Ss8++6xeeeUVTZo06WNrFy1aJEnau3fvSQdQLBZTLGZ/PT8AYGxwGkBBEOjuu+/Wxo0btXnzZtXV1Z32/+zcuVOSVF1dfUYLBACMTU4DqKGhQRs2bNDTTz+t4uJitbZ+8E7xeDyu/Px87du3Txs2bNCf//mfa/z48dq1a5fuvfdeXX311Zo3b96IbAAAYHRyGkDr1q2T9MGbTf/YY489pltvvVXRaFQvvviiHn74YfX29qq2tlYrVqzQN77xjWFbMABgbHD+E9zHqa2tVVNT01kt6EMFBTEV5NueG2rvSpj7vrprh9M6KirGmWsrK8qdeqfT9tyzEyc6nHorYb9NcrNu+WsT69xyz2rHFZtr33/7sFPv3h577llFpdt70wrGl5prc/LsWWCS1Ndv3z+SVF092VzbeuigU+9j7Z32ddT0nr7oj4RO85jxx3qSbsehcu3PHaezbnmHsfxCt/pQyFybaj/q1FvhiLm0cuJUp9appC2zTZIcdqW5liw4AIAXDCAAgBcMIACAFwwgAIAXDCAAgBcMIACAFwwgAIAXDCAAgBcMIACAFwwgAIAXZ/x5QCMtlptVLJI11SYTHea+v/3tJqd1BGl7ZEpJQb5T73R6wFyb6O936p3r8LvFlKlun78054pLnOqnT7ZH93QccIuRaT1xzFwbNUY7fWj6eHt0z9GjPU69586ec/qiP3Lp3Nnm2if+3x879c5V1Fyb7nWLEEql7PXBgFtcjvLs958cx498mVo3zan+yIFme3E4x6l3fqF97RdfPMupd6LPftzWVleYa5NJ237nDAgA4AUDCADgBQMIAOAFAwgA4AUDCADgBQMIAOAFAwgA4AUDCADgBQMIAOAFAwgA4AUDCADgxXmbBdeX6JdCxuKwfY4uXf6/nNaRTfWaa3Mcst0kKZuxZd1JUpDjlh+Vk2vP98orLHDq3drhlkvX3fG2ufZ4v9ttGMrLM9c273zHqXf7lqPm2ml19qw2Sbp8xkyn+lS/PVMtP+qWexak0+baPod1SFI4x/4Qk7Xe3/9bf9Z+/8nNuB1XUya5ZcEletrNtZeUFDr1/t2OV821h95zyKST1N9rf3wL+k6Ya1PplKmOMyAAgBcMIACAFwwgAIAXDCAAgBcMIACAFwwgAIAXDCAAgBcMIACAFwwgAIAXDCAAgBfnbRRPYWFEBQW2OJl4YO9bPGGW0zqSyaS5Ns9xnkdD9ricID/fqXfMeNtJUjbR49S7u7vLqT6noMRcWzG91Kn39IJj5to9Lfuceitkjz+KFLjF37x/eL9T/fjycSNSK0mpfnscSzLZ6dS7t9ce3ZPsczsO08k+c21unlvcVGXNBKf69w63mWvb9rsdh4ke+22+7/WdTr3Hj7dvZzCuzF6btsUkcQYEAPCCAQQA8IIBBADwggEEAPCCAQQA8IIBBADwggEEAPCCAQQA8IIBBADwggEEAPCCAQQA8OK8zYLr69krZfJsxVn7HI2EipzW0dZmz2Ha88a7Tr3zcu35btF4qVPv8gp7HlhNedypd27Y7feW8fHx5tqMLUJqUKL/hLm2osKeSSdJE2vs2VeHW1uder/99ptO9VNTdeZal/xCSeruth/jfX32zDNJ6uq05wa6ZsFlUv3m2pxYoVPv13eXO9WnkilzbUVFpVPvifPm2HtPcOtdPqHKXJvncBsmkrYMQM6AAABeOA2gdevWad68eSopKVFJSYnq6+v1i1/8YvD6RCKhhoYGjR8/XkVFRVqxYoXa2tx+YwIAXBicBtCkSZP04IMPaseOHdq+fbuuvfZa3XDDDXr99dclSffee6+eeeYZPfnkk2pqatKhQ4d00003jcjCAQCjm9NzQNdff/2Qr//pn/5J69at09atWzVp0iQ9+uij2rBhg6699lpJ0mOPPaaLL75YW7du1RVXXDF8qwYAjHpn/BxQJpPRE088od7eXtXX12vHjh1Kp9NasmTJYM1FF12kyZMna8uWLafsk0wm1dXVNeQCABj7nAfQa6+9pqKiIsViMd15553auHGjLrnkErW2tioajaq0tHRIfWVlpVo/5hVCjY2Nisfjg5fa2lrnjQAAjD7OA2j27NnauXOntm3bprvuuksrV67UG2+8ccYLWLNmjTo7OwcvBw4cOONeAIDRw/l9QNFoVDNmzJAkLViwQP/1X/+l73//+7r55puVSqXU0dEx5Cyora1NVVWnfq15LBZTLBZzXzkAYFQ76/cBZbNZJZNJLViwQJFIRJs2bRq8rrm5Wfv371d9ff3Z/hgAwBjjdAa0Zs0aLV++XJMnT1Z3d7c2bNigzZs36/nnn1c8Htdtt92m1atXq6ysTCUlJbr77rtVX1/PK+AAAB/hNICOHDmiv/zLv9Thw4cVj8c1b948Pf/88/qzP/szSdL3vvc9hcNhrVixQslkUkuXLtWPfvSjM1pYkEoqm2OrDTucyOWmjU3/W0nEng2zY2uTU+/WtmPm2lDE7c+UCxcuMNdeVf8pp96dnfboFkna9ftt5trehC3C40Nv77c/Z/jOu+869e7v6zPXBkHIqXdeyQSn+q6ubnNt9wn7cSVJvV32OCO3rZRyc+z/I15c4NS7ps4eTzRufLVT74oae0SNJNV8Yq65tqzELRYommN/zMpxqJUkhRzqA4fH2dyIrc7+06VHH330Y6/Py8vT2rVrtXbtWpe2AIALEFlwAAAvGEAAAC8YQAAALxhAAAAvGEAAAC8YQAAALxhAAAAvGEAAAC8YQAAAL5zTsEdaEASSpP5E0vx/0g5zdCBwi6pIOKwjk7XH9khS9r+31SIUuPVODwyYaxNJ+zZKUjKZcqtP2etTqbRT7wGH7cw67p/Aod41iiebzbjVy17vsm7pf+5zI8Gltev+yWTst4nLcSJJ6bTjMe5wH0ok3R6DsuHRF8WTSH4QqXW6YysUjOTRdwYOHjzIh9IBwBhw4MABTZo06ZTXn3cDKJvN6tChQyouLlYo9D+/VXZ1dam2tlYHDhxQSUmJxxWOLLZz7LgQtlFiO8ea4djOIAjU3d2tmpoahcOnPnM67/4EFw6HP3ZilpSUjOmd/yG2c+y4ELZRYjvHmrPdzng8ftoaXoQAAPCCAQQA8GLUDKBYLKb7779fsZjbB7ONNmzn2HEhbKPEdo4153I7z7sXIQAALgyj5gwIADC2MIAAAF4wgAAAXjCAAABejJoBtHbtWk2dOlV5eXlatGiRfve73/le0rD61re+pVAoNORy0UUX+V7WWXnllVd0/fXXq6amRqFQSE899dSQ64Mg0H333afq6mrl5+dryZIl2rNnj5/FnoXTbeett976kX27bNkyP4s9Q42Njbr88stVXFysiooK3XjjjWpubh5Sk0gk1NDQoPHjx6uoqEgrVqxQW1ubpxWfGct2XnPNNR/Zn3feeaenFZ+ZdevWad68eYNvNq2vr9cvfvGLwevP1b4cFQPopz/9qVavXq37779fv//97zV//nwtXbpUR44c8b20YXXppZfq8OHDg5df//rXvpd0Vnp7ezV//nytXbv2pNc/9NBD+sEPfqBHHnlE27ZtU2FhoZYuXapEInGOV3p2TredkrRs2bIh+/bxxx8/hys8e01NTWpoaNDWrVv1wgsvKJ1O67rrrlNvb+9gzb333qtnnnlGTz75pJqamnTo0CHddNNNHlftzrKdknT77bcP2Z8PPfSQpxWfmUmTJunBBx/Ujh07tH37dl177bW64YYb9Prrr0s6h/syGAUWLlwYNDQ0DH6dyWSCmpqaoLGx0eOqhtf9998fzJ8/3/cyRoykYOPGjYNfZ7PZoKqqKvjOd74z+L2Ojo4gFosFjz/+uIcVDo8/3c4gCIKVK1cGN9xwg5f1jJQjR44EkoKmpqYgCD7Yd5FIJHjyyScHa958881AUrBlyxZfyzxrf7qdQRAEn/3sZ4O/+Zu/8beoETJu3LjgX/7lX87pvjzvz4BSqZR27NihJUuWDH4vHA5ryZIl2rJli8eVDb89e/aopqZG06ZN05e+9CXt37/f95JGTEtLi1pbW4fs13g8rkWLFo25/SpJmzdvVkVFhWbPnq277rpL7e3tvpd0Vjo7OyVJZWVlkqQdO3YonU4P2Z8XXXSRJk+ePKr3559u54d+8pOfqLy8XHPmzNGaNWvU19fnY3nDIpPJ6IknnlBvb6/q6+vP6b4878JI/9SxY8eUyWRUWVk55PuVlZV66623PK1q+C1atEjr16/X7NmzdfjwYT3wwAP6zGc+o927d6u4uNj38oZda2urJJ10v3543VixbNky3XTTTaqrq9O+ffv093//91q+fLm2bNni/vkt54FsNqt77rlHV155pebMmSPpg/0ZjUZVWlo6pHY078+TbackffGLX9SUKVNUU1OjXbt26Wtf+5qam5v185//3ONq3b322muqr69XIpFQUVGRNm7cqEsuuUQ7d+48Z/vyvB9AF4rly5cP/nvevHlatGiRpkyZop/97Ge67bbbPK4MZ+uWW24Z/PfcuXM1b948TZ8+XZs3b9bixYs9ruzMNDQ0aPfu3aP+OcrTOdV23nHHHYP/njt3rqqrq7V48WLt27dP06dPP9fLPGOzZ8/Wzp071dnZqX//93/XypUr1dTUdE7XcN7/Ca68vFw5OTkfeQVGW1ubqqqqPK1q5JWWlmrWrFnau3ev76WMiA/33YW2XyVp2rRpKi8vH5X7dtWqVXr22Wf18ssvD/nYlKqqKqVSKXV0dAypH63781TbeTKLFi2SpFG3P6PRqGbMmKEFCxaosbFR8+fP1/e///1zui/P+wEUjUa1YMECbdq0afB72WxWmzZtUn19vceVjayenh7t27dP1dXVvpcyIurq6lRVVTVkv3Z1dWnbtm1jer9KH3zqb3t7+6jat0EQaNWqVdq4caNeeukl1dXVDbl+wYIFikQiQ/Znc3Oz9u/fP6r25+m282R27twpSaNqf55MNptVMpk8t/tyWF/SMEKeeOKJIBaLBevXrw/eeOON4I477ghKS0uD1tZW30sbNn/7t38bbN68OWhpaQl+85vfBEuWLAnKy8uDI0eO+F7aGevu7g5effXV4NVXXw0kBd/97neDV199NXjvvfeCIAiCBx98MCgtLQ2efvrpYNeuXcENN9wQ1NXVBf39/Z5X7ubjtrO7uzv4yle+EmzZsiVoaWkJXnzxxeCTn/xkMHPmzCCRSPheutldd90VxOPxYPPmzcHhw4cHL319fYM1d955ZzB58uTgpZdeCrZv3x7U19cH9fX1Hlft7nTbuXfv3uDb3/52sH379qClpSV4+umng2nTpgVXX32155W7+frXvx40NTUFLS0twa5du4Kvf/3rQSgUCn75y18GQXDu9uWoGEBBEAQ//OEPg8mTJwfRaDRYuHBhsHXrVt9LGlY333xzUF1dHUSj0WDixInBzTffHOzdu9f3ss7Kyy+/HEj6yGXlypVBEHzwUuxvfvObQWVlZRCLxYLFixcHzc3Nfhd9Bj5uO/v6+oLrrrsumDBhQhCJRIIpU6YEt99++6j75elk2ycpeOyxxwZr+vv7g7/+678Oxo0bFxQUFASf//zng8OHD/tb9Bk43Xbu378/uPrqq4OysrIgFosFM2bMCP7u7/4u6Ozs9LtwR3/1V38VTJkyJYhGo8GECROCxYsXDw6fIDh3+5KPYwAAeHHePwcEABibGEAAAC8YQAAALxhAAAAvGEAAAC8YQAAALxhAAAAvGEAAAC8YQAAALxhAAAAvGEAAAC8YQAAAL/5/Kd9NeSjv7Z0AAAAASUVORK5CYII=\n"
          },
          "metadata": {}
        }
      ]
    },
    {
      "cell_type": "code",
      "source": [
        "def plot_sample(X,y, index):\n",
        "   plt.figure(figsize=(15,2))\n",
        "   plt.imshow(X[index])\n",
        "plot_sample(X_train, y_train, 0)"
      ],
      "metadata": {
        "colab": {
          "base_uri": "https://localhost:8080/",
          "height": 217
        },
        "id": "Ou8hEabjDtf3",
        "outputId": "770d8587-b665-4c88-d4b5-b0c99f853ac7"
      },
      "execution_count": null,
      "outputs": [
        {
          "output_type": "display_data",
          "data": {
            "text/plain": [
              "<Figure size 1500x200 with 1 Axes>"
            ],
            "image/png": "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\n"
          },
          "metadata": {}
        }
      ]
    },
    {
      "cell_type": "code",
      "source": [
        "import tensorflow as tf\n",
        "from tensorflow.keras import datasets, layers, models\n",
        "import matplotlib.pyplot as plt\n",
        "import numpy as np\n"
      ],
      "metadata": {
        "id": "OuNMEwXwEZW8"
      },
      "execution_count": null,
      "outputs": []
    },
    {
      "cell_type": "code",
      "source": [
        "(X_train, y_train), (X_test, y_test) = datasets.cifar10.load_data()\n",
        "X_train.shape"
      ],
      "metadata": {
        "colab": {
          "base_uri": "https://localhost:8080/"
        },
        "id": "Q0c6r2_FPASZ",
        "outputId": "3550eba3-d1e0-4ef5-ce5e-a85c5e67b959"
      },
      "execution_count": null,
      "outputs": [
        {
          "output_type": "stream",
          "name": "stdout",
          "text": [
            "Downloading data from https://www.cs.toronto.edu/~kriz/cifar-10-python.tar.gz\n",
            "\u001b[1m170498071/170498071\u001b[0m \u001b[32m━━━━━━━━━━━━━━━━━━━━\u001b[0m\u001b[37m\u001b[0m \u001b[1m4s\u001b[0m 0us/step\n"
          ]
        },
        {
          "output_type": "execute_result",
          "data": {
            "text/plain": [
              "(50000, 32, 32, 3)"
            ]
          },
          "metadata": {},
          "execution_count": 2
        }
      ]
    },
    {
      "cell_type": "code",
      "source": [
        "X_test.shape"
      ],
      "metadata": {
        "colab": {
          "base_uri": "https://localhost:8080/"
        },
        "id": "hG8tpq8GPLf0",
        "outputId": "9b211963-b99e-4262-f48c-43bf0c3da0ad"
      },
      "execution_count": null,
      "outputs": [
        {
          "output_type": "execute_result",
          "data": {
            "text/plain": [
              "(10000, 32, 32, 3)"
            ]
          },
          "metadata": {},
          "execution_count": 3
        }
      ]
    },
    {
      "cell_type": "code",
      "source": [
        "y_train.shape"
      ],
      "metadata": {
        "colab": {
          "base_uri": "https://localhost:8080/"
        },
        "id": "hXJ-7b53PORN",
        "outputId": "3f393abb-52ee-4487-b0b7-b492ca740c76"
      },
      "execution_count": null,
      "outputs": [
        {
          "output_type": "execute_result",
          "data": {
            "text/plain": [
              "(50000, 1)"
            ]
          },
          "metadata": {},
          "execution_count": 4
        }
      ]
    },
    {
      "cell_type": "code",
      "source": [
        "y_train[0]"
      ],
      "metadata": {
        "colab": {
          "base_uri": "https://localhost:8080/"
        },
        "id": "3MFMEut7PWO9",
        "outputId": "580e4f00-460e-4795-c99f-817d2890dbe6"
      },
      "execution_count": null,
      "outputs": [
        {
          "output_type": "execute_result",
          "data": {
            "text/plain": [
              "array([6], dtype=uint8)"
            ]
          },
          "metadata": {},
          "execution_count": 5
        }
      ]
    },
    {
      "cell_type": "code",
      "source": [
        "X_train[0].shape"
      ],
      "metadata": {
        "colab": {
          "base_uri": "https://localhost:8080/"
        },
        "id": "nk2PscIAPYwW",
        "outputId": "bacb9d29-131f-4176-9829-de203096eb0b"
      },
      "execution_count": null,
      "outputs": [
        {
          "output_type": "execute_result",
          "data": {
            "text/plain": [
              "(32, 32, 3)"
            ]
          },
          "metadata": {},
          "execution_count": 7
        }
      ]
    },
    {
      "cell_type": "code",
      "source": [
        "classes = [\n",
        "\"airplane\",\n",
        "\"automobile\",\n",
        "\"bird\",\n",
        "\"cat\",\n",
        "\"deer\",\n",
        "\"dog\",\n",
        "\"frog\",\n",
        "\"horse\",\n",
        "\"ship\",\n",
        "\"truck\"]"
      ],
      "metadata": {
        "id": "CRz8B4PzPgth"
      },
      "execution_count": null,
      "outputs": []
    },
    {
      "cell_type": "code",
      "source": [
        "def plot_sample(X, y, index):\n",
        "  plt.figure(figsize=(15,2))\n",
        "  plt.imshow(X[index])\n",
        "  plt.xlabel(classes[y[index][0]])\n",
        "\n",
        "plot_sample(X_train, y_train, 4)"
      ],
      "metadata": {
        "colab": {
          "base_uri": "https://localhost:8080/",
          "height": 237
        },
        "id": "8ETzBxmhP8ch",
        "outputId": "de4672f7-818c-48b3-f3c1-d990c69939cf"
      },
      "execution_count": null,
      "outputs": [
        {
          "output_type": "display_data",
          "data": {
            "text/plain": [
              "<Figure size 1500x200 with 1 Axes>"
            ],
            "image/png": "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\n"
          },
          "metadata": {}
        }
      ]
    },
    {
      "cell_type": "code",
      "source": [
        "plot_sample(X_test, y_test, 9)"
      ],
      "metadata": {
        "colab": {
          "base_uri": "https://localhost:8080/",
          "height": 237
        },
        "id": "Ne4wW5cZQMbi",
        "outputId": "619e9013-d8bf-4bec-a402-d687ead2c7a7"
      },
      "execution_count": null,
      "outputs": [
        {
          "output_type": "display_data",
          "data": {
            "text/plain": [
              "<Figure size 1500x200 with 1 Axes>"
            ],
            "image/png": "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\n"
          },
          "metadata": {}
        }
      ]
    },
    {
      "cell_type": "code",
      "source": [
        "X_train = X_train / 255\n",
        "X_test = X_test/ 255"
      ],
      "metadata": {
        "id": "5nKx_UrdQojy"
      },
      "execution_count": null,
      "outputs": []
    },
    {
      "cell_type": "code",
      "source": [
        "ann = models.Sequential([\n",
        "    layers.Flatten(input_shape=(32,32,3)),\n",
        "    layers.Dense(3000, activation='relu'),\n",
        "    layers.Dense(1000, activation='relu'),\n",
        "    layers.Dense(10, activation='softmax')])"
      ],
      "metadata": {
        "colab": {
          "base_uri": "https://localhost:8080/"
        },
        "id": "vhWhWAcdVCTw",
        "outputId": "c910139b-9ea4-4458-84ee-be6a977e44d7"
      },
      "execution_count": null,
      "outputs": [
        {
          "output_type": "stream",
          "name": "stderr",
          "text": [
            "/usr/local/lib/python3.11/dist-packages/keras/src/layers/reshaping/flatten.py:37: UserWarning: Do not pass an `input_shape`/`input_dim` argument to a layer. When using Sequential models, prefer using an `Input(shape)` object as the first layer in the model instead.\n",
            "  super().__init__(**kwargs)\n"
          ]
        }
      ]
    },
    {
      "cell_type": "code",
      "source": [
        "ann.compile(optimizer='adam',\n",
        "            loss='sparse_categorical_crossentropy',\n",
        "            metrics=['accuracy'])"
      ],
      "metadata": {
        "id": "UFYfKeXqSDxv"
      },
      "execution_count": null,
      "outputs": []
    },
    {
      "cell_type": "code",
      "source": [
        "ann.fit(X_test, y_test, epochs = 7)"
      ],
      "metadata": {
        "colab": {
          "base_uri": "https://localhost:8080/"
        },
        "id": "9oDDpTqrVbpW",
        "outputId": "83723e3f-0881-4010-ac73-c182f441cb70"
      },
      "execution_count": null,
      "outputs": [
        {
          "output_type": "stream",
          "name": "stdout",
          "text": [
            "Epoch 1/7\n",
            "\u001b[1m313/313\u001b[0m \u001b[32m━━━━━━━━━━━━━━━━━━━━\u001b[0m\u001b[37m\u001b[0m \u001b[1m4s\u001b[0m 6ms/step - accuracy: 0.1955 - loss: 3.1375\n",
            "Epoch 2/7\n",
            "\u001b[1m313/313\u001b[0m \u001b[32m━━━━━━━━━━━━━━━━━━━━\u001b[0m\u001b[37m\u001b[0m \u001b[1m4s\u001b[0m 4ms/step - accuracy: 0.3271 - loss: 1.8603\n",
            "Epoch 3/7\n",
            "\u001b[1m313/313\u001b[0m \u001b[32m━━━━━━━━━━━━━━━━━━━━\u001b[0m\u001b[37m\u001b[0m \u001b[1m1s\u001b[0m 4ms/step - accuracy: 0.3404 - loss: 1.8159\n",
            "Epoch 4/7\n",
            "\u001b[1m313/313\u001b[0m \u001b[32m━━━━━━━━━━━━━━━━━━━━\u001b[0m\u001b[37m\u001b[0m \u001b[1m3s\u001b[0m 4ms/step - accuracy: 0.3834 - loss: 1.7068\n",
            "Epoch 5/7\n",
            "\u001b[1m313/313\u001b[0m \u001b[32m━━━━━━━━━━━━━━━━━━━━\u001b[0m\u001b[37m\u001b[0m \u001b[1m1s\u001b[0m 4ms/step - accuracy: 0.3990 - loss: 1.6769\n",
            "Epoch 6/7\n",
            "\u001b[1m313/313\u001b[0m \u001b[32m━━━━━━━━━━━━━━━━━━━━\u001b[0m\u001b[37m\u001b[0m \u001b[1m2s\u001b[0m 5ms/step - accuracy: 0.4172 - loss: 1.6243\n",
            "Epoch 7/7\n",
            "\u001b[1m313/313\u001b[0m \u001b[32m━━━━━━━━━━━━━━━━━━━━\u001b[0m\u001b[37m\u001b[0m \u001b[1m2s\u001b[0m 4ms/step - accuracy: 0.4346 - loss: 1.5771\n"
          ]
        },
        {
          "output_type": "execute_result",
          "data": {
            "text/plain": [
              "<keras.src.callbacks.history.History at 0x790e4009b410>"
            ]
          },
          "metadata": {},
          "execution_count": 32
        }
      ]
    },
    {
      "cell_type": "code",
      "source": [
        "y_pred = ann.predict(X_test)\n",
        "y_pred_classes = [np.argmax(element) for element in y_pred]\n"
      ],
      "metadata": {
        "colab": {
          "base_uri": "https://localhost:8080/"
        },
        "id": "u5A_VAfOSjB-",
        "outputId": "2e8b945f-2249-43c5-eeef-d077da437241"
      },
      "execution_count": null,
      "outputs": [
        {
          "output_type": "stream",
          "name": "stdout",
          "text": [
            "\u001b[1m313/313\u001b[0m \u001b[32m━━━━━━━━━━━━━━━━━━━━\u001b[0m\u001b[37m\u001b[0m \u001b[1m1s\u001b[0m 3ms/step\n"
          ]
        }
      ]
    },
    {
      "cell_type": "code",
      "source": [
        "confusion_matrix(y_test, y_pred_classes)"
      ],
      "metadata": {
        "colab": {
          "base_uri": "https://localhost:8080/"
        },
        "id": "66enJlNJTuwg",
        "outputId": "e6515f58-4e46-4e97-d15e-5f5525aa7d16"
      },
      "execution_count": null,
      "outputs": [
        {
          "output_type": "execute_result",
          "data": {
            "text/plain": [
              "array([[498,  23,  11,   6,  35,   4,  18,  38, 312,  55],\n",
              "       [ 52, 391,   1,   7,  21,  10,  12,  27, 238, 241],\n",
              "       [173,  19,  78,  18, 324,  40, 103, 100, 106,  39],\n",
              "       [ 92,  26,  22, 166, 135, 103, 113, 121, 120, 102],\n",
              "       [ 99,  12,  22,  14, 515,  20, 112, 101,  72,  33],\n",
              "       [ 57,  18,  33,  96, 143, 245,  90, 167,  98,  53],\n",
              "       [ 34,  10,   9,  17, 236,  29, 463,  99,  51,  52],\n",
              "       [110,  16,  10,  10, 100,  18,  22, 569,  63,  82],\n",
              "       [ 81,  34,   1,   9,  14,   8,   3,  12, 766,  72],\n",
              "       [ 50,  78,   0,   5,  13,   7,  18,  33, 233, 563]])"
            ]
          },
          "metadata": {},
          "execution_count": 34
        }
      ]
    },
    {
      "cell_type": "code",
      "source": [
        "classification_report(y_test, y_pred_classes)"
      ],
      "metadata": {
        "colab": {
          "base_uri": "https://localhost:8080/",
          "height": 122
        },
        "id": "ELN2dwpAT-dX",
        "outputId": "bc5c9de8-8704-4ecc-a934-38e2f27bcbf1"
      },
      "execution_count": null,
      "outputs": [
        {
          "output_type": "execute_result",
          "data": {
            "text/plain": [
              "'              precision    recall  f1-score   support\\n\\n           0       0.40      0.50      0.44      1000\\n           1       0.62      0.39      0.48      1000\\n           2       0.42      0.08      0.13      1000\\n           3       0.48      0.17      0.25      1000\\n           4       0.34      0.52      0.41      1000\\n           5       0.51      0.24      0.33      1000\\n           6       0.49      0.46      0.47      1000\\n           7       0.45      0.57      0.50      1000\\n           8       0.37      0.77      0.50      1000\\n           9       0.44      0.56      0.49      1000\\n\\n    accuracy                           0.43     10000\\n   macro avg       0.45      0.43      0.40     10000\\nweighted avg       0.45      0.43      0.40     10000\\n'"
            ],
            "application/vnd.google.colaboratory.intrinsic+json": {
              "type": "string"
            }
          },
          "metadata": {},
          "execution_count": 35
        }
      ]
    },
    {
      "cell_type": "code",
      "source": [
        "# CNN model\n",
        "cnn = models.Sequential([\n",
        "    # First convolutional block\n",
        "    layers.Conv2D(filters=32, kernel_size=(3, 3), activation='relu', input_shape=(32, 32, 3)),\n",
        "    layers.MaxPooling2D(pool_size=(2, 2)),\n",
        "\n",
        "    # Second convolutional block\n",
        "    layers.Conv2D(filters=64, kernel_size=(3, 3), activation='relu'),\n",
        "    layers.MaxPooling2D(pool_size=(2, 2)),\n",
        "\n",
        "    # Flattening before dense layers\n",
        "    layers.Flatten(),\n",
        "\n",
        "    # Fully connected layers\n",
        "    layers.Dense(64, activation='relu'),\n",
        "    layers.Dropout(0.5),  # Optional: Helps reduce overfitting\n",
        "\n",
        "    # Output layer\n",
        "    layers.Dense(10, activation='softmax')\n",
        "])\n",
        "\n",
        "# Summary of the model\n",
        "cnn.summary()\n"
      ],
      "metadata": {
        "colab": {
          "base_uri": "https://localhost:8080/",
          "height": 440
        },
        "id": "hM7_XmfkUHKw",
        "outputId": "c88c238c-d0d6-47c5-c1ed-f8fcdf42993c"
      },
      "execution_count": null,
      "outputs": [
        {
          "output_type": "stream",
          "name": "stderr",
          "text": [
            "/usr/local/lib/python3.11/dist-packages/keras/src/layers/convolutional/base_conv.py:107: UserWarning: Do not pass an `input_shape`/`input_dim` argument to a layer. When using Sequential models, prefer using an `Input(shape)` object as the first layer in the model instead.\n",
            "  super().__init__(activity_regularizer=activity_regularizer, **kwargs)\n"
          ]
        },
        {
          "output_type": "display_data",
          "data": {
            "text/plain": [
              "\u001b[1mModel: \"sequential_1\"\u001b[0m\n"
            ],
            "text/html": [
              "<pre style=\"white-space:pre;overflow-x:auto;line-height:normal;font-family:Menlo,'DejaVu Sans Mono',consolas,'Courier New',monospace\"><span style=\"font-weight: bold\">Model: \"sequential_1\"</span>\n",
              "</pre>\n"
            ]
          },
          "metadata": {}
        },
        {
          "output_type": "display_data",
          "data": {
            "text/plain": [
              "┏━━━━━━━━━━━━━━━━━━━━━━━━━━━━━━━━━━━━━━┳━━━━━━━━━━━━━━━━━━━━━━━━━━━━━┳━━━━━━━━━━━━━━━━━┓\n",
              "┃\u001b[1m \u001b[0m\u001b[1mLayer (type)                        \u001b[0m\u001b[1m \u001b[0m┃\u001b[1m \u001b[0m\u001b[1mOutput Shape               \u001b[0m\u001b[1m \u001b[0m┃\u001b[1m \u001b[0m\u001b[1m        Param #\u001b[0m\u001b[1m \u001b[0m┃\n",
              "┡━━━━━━━━━━━━━━━━━━━━━━━━━━━━━━━━━━━━━━╇━━━━━━━━━━━━━━━━━━━━━━━━━━━━━╇━━━━━━━━━━━━━━━━━┩\n",
              "│ conv2d (\u001b[38;5;33mConv2D\u001b[0m)                      │ (\u001b[38;5;45mNone\u001b[0m, \u001b[38;5;34m30\u001b[0m, \u001b[38;5;34m30\u001b[0m, \u001b[38;5;34m32\u001b[0m)          │             \u001b[38;5;34m896\u001b[0m │\n",
              "├──────────────────────────────────────┼─────────────────────────────┼─────────────────┤\n",
              "│ max_pooling2d (\u001b[38;5;33mMaxPooling2D\u001b[0m)         │ (\u001b[38;5;45mNone\u001b[0m, \u001b[38;5;34m15\u001b[0m, \u001b[38;5;34m15\u001b[0m, \u001b[38;5;34m32\u001b[0m)          │               \u001b[38;5;34m0\u001b[0m │\n",
              "├──────────────────────────────────────┼─────────────────────────────┼─────────────────┤\n",
              "│ conv2d_1 (\u001b[38;5;33mConv2D\u001b[0m)                    │ (\u001b[38;5;45mNone\u001b[0m, \u001b[38;5;34m13\u001b[0m, \u001b[38;5;34m13\u001b[0m, \u001b[38;5;34m64\u001b[0m)          │          \u001b[38;5;34m18,496\u001b[0m │\n",
              "├──────────────────────────────────────┼─────────────────────────────┼─────────────────┤\n",
              "│ max_pooling2d_1 (\u001b[38;5;33mMaxPooling2D\u001b[0m)       │ (\u001b[38;5;45mNone\u001b[0m, \u001b[38;5;34m6\u001b[0m, \u001b[38;5;34m6\u001b[0m, \u001b[38;5;34m64\u001b[0m)            │               \u001b[38;5;34m0\u001b[0m │\n",
              "├──────────────────────────────────────┼─────────────────────────────┼─────────────────┤\n",
              "│ flatten_1 (\u001b[38;5;33mFlatten\u001b[0m)                  │ (\u001b[38;5;45mNone\u001b[0m, \u001b[38;5;34m2304\u001b[0m)                │               \u001b[38;5;34m0\u001b[0m │\n",
              "├──────────────────────────────────────┼─────────────────────────────┼─────────────────┤\n",
              "│ dense_3 (\u001b[38;5;33mDense\u001b[0m)                      │ (\u001b[38;5;45mNone\u001b[0m, \u001b[38;5;34m64\u001b[0m)                  │         \u001b[38;5;34m147,520\u001b[0m │\n",
              "├──────────────────────────────────────┼─────────────────────────────┼─────────────────┤\n",
              "│ dropout (\u001b[38;5;33mDropout\u001b[0m)                    │ (\u001b[38;5;45mNone\u001b[0m, \u001b[38;5;34m64\u001b[0m)                  │               \u001b[38;5;34m0\u001b[0m │\n",
              "├──────────────────────────────────────┼─────────────────────────────┼─────────────────┤\n",
              "│ dense_4 (\u001b[38;5;33mDense\u001b[0m)                      │ (\u001b[38;5;45mNone\u001b[0m, \u001b[38;5;34m10\u001b[0m)                  │             \u001b[38;5;34m650\u001b[0m │\n",
              "└──────────────────────────────────────┴─────────────────────────────┴─────────────────┘\n"
            ],
            "text/html": [
              "<pre style=\"white-space:pre;overflow-x:auto;line-height:normal;font-family:Menlo,'DejaVu Sans Mono',consolas,'Courier New',monospace\">┏━━━━━━━━━━━━━━━━━━━━━━━━━━━━━━━━━━━━━━┳━━━━━━━━━━━━━━━━━━━━━━━━━━━━━┳━━━━━━━━━━━━━━━━━┓\n",
              "┃<span style=\"font-weight: bold\"> Layer (type)                         </span>┃<span style=\"font-weight: bold\"> Output Shape                </span>┃<span style=\"font-weight: bold\">         Param # </span>┃\n",
              "┡━━━━━━━━━━━━━━━━━━━━━━━━━━━━━━━━━━━━━━╇━━━━━━━━━━━━━━━━━━━━━━━━━━━━━╇━━━━━━━━━━━━━━━━━┩\n",
              "│ conv2d (<span style=\"color: #0087ff; text-decoration-color: #0087ff\">Conv2D</span>)                      │ (<span style=\"color: #00d7ff; text-decoration-color: #00d7ff\">None</span>, <span style=\"color: #00af00; text-decoration-color: #00af00\">30</span>, <span style=\"color: #00af00; text-decoration-color: #00af00\">30</span>, <span style=\"color: #00af00; text-decoration-color: #00af00\">32</span>)          │             <span style=\"color: #00af00; text-decoration-color: #00af00\">896</span> │\n",
              "├──────────────────────────────────────┼─────────────────────────────┼─────────────────┤\n",
              "│ max_pooling2d (<span style=\"color: #0087ff; text-decoration-color: #0087ff\">MaxPooling2D</span>)         │ (<span style=\"color: #00d7ff; text-decoration-color: #00d7ff\">None</span>, <span style=\"color: #00af00; text-decoration-color: #00af00\">15</span>, <span style=\"color: #00af00; text-decoration-color: #00af00\">15</span>, <span style=\"color: #00af00; text-decoration-color: #00af00\">32</span>)          │               <span style=\"color: #00af00; text-decoration-color: #00af00\">0</span> │\n",
              "├──────────────────────────────────────┼─────────────────────────────┼─────────────────┤\n",
              "│ conv2d_1 (<span style=\"color: #0087ff; text-decoration-color: #0087ff\">Conv2D</span>)                    │ (<span style=\"color: #00d7ff; text-decoration-color: #00d7ff\">None</span>, <span style=\"color: #00af00; text-decoration-color: #00af00\">13</span>, <span style=\"color: #00af00; text-decoration-color: #00af00\">13</span>, <span style=\"color: #00af00; text-decoration-color: #00af00\">64</span>)          │          <span style=\"color: #00af00; text-decoration-color: #00af00\">18,496</span> │\n",
              "├──────────────────────────────────────┼─────────────────────────────┼─────────────────┤\n",
              "│ max_pooling2d_1 (<span style=\"color: #0087ff; text-decoration-color: #0087ff\">MaxPooling2D</span>)       │ (<span style=\"color: #00d7ff; text-decoration-color: #00d7ff\">None</span>, <span style=\"color: #00af00; text-decoration-color: #00af00\">6</span>, <span style=\"color: #00af00; text-decoration-color: #00af00\">6</span>, <span style=\"color: #00af00; text-decoration-color: #00af00\">64</span>)            │               <span style=\"color: #00af00; text-decoration-color: #00af00\">0</span> │\n",
              "├──────────────────────────────────────┼─────────────────────────────┼─────────────────┤\n",
              "│ flatten_1 (<span style=\"color: #0087ff; text-decoration-color: #0087ff\">Flatten</span>)                  │ (<span style=\"color: #00d7ff; text-decoration-color: #00d7ff\">None</span>, <span style=\"color: #00af00; text-decoration-color: #00af00\">2304</span>)                │               <span style=\"color: #00af00; text-decoration-color: #00af00\">0</span> │\n",
              "├──────────────────────────────────────┼─────────────────────────────┼─────────────────┤\n",
              "│ dense_3 (<span style=\"color: #0087ff; text-decoration-color: #0087ff\">Dense</span>)                      │ (<span style=\"color: #00d7ff; text-decoration-color: #00d7ff\">None</span>, <span style=\"color: #00af00; text-decoration-color: #00af00\">64</span>)                  │         <span style=\"color: #00af00; text-decoration-color: #00af00\">147,520</span> │\n",
              "├──────────────────────────────────────┼─────────────────────────────┼─────────────────┤\n",
              "│ dropout (<span style=\"color: #0087ff; text-decoration-color: #0087ff\">Dropout</span>)                    │ (<span style=\"color: #00d7ff; text-decoration-color: #00d7ff\">None</span>, <span style=\"color: #00af00; text-decoration-color: #00af00\">64</span>)                  │               <span style=\"color: #00af00; text-decoration-color: #00af00\">0</span> │\n",
              "├──────────────────────────────────────┼─────────────────────────────┼─────────────────┤\n",
              "│ dense_4 (<span style=\"color: #0087ff; text-decoration-color: #0087ff\">Dense</span>)                      │ (<span style=\"color: #00d7ff; text-decoration-color: #00d7ff\">None</span>, <span style=\"color: #00af00; text-decoration-color: #00af00\">10</span>)                  │             <span style=\"color: #00af00; text-decoration-color: #00af00\">650</span> │\n",
              "└──────────────────────────────────────┴─────────────────────────────┴─────────────────┘\n",
              "</pre>\n"
            ]
          },
          "metadata": {}
        },
        {
          "output_type": "display_data",
          "data": {
            "text/plain": [
              "\u001b[1m Total params: \u001b[0m\u001b[38;5;34m167,562\u001b[0m (654.54 KB)\n"
            ],
            "text/html": [
              "<pre style=\"white-space:pre;overflow-x:auto;line-height:normal;font-family:Menlo,'DejaVu Sans Mono',consolas,'Courier New',monospace\"><span style=\"font-weight: bold\"> Total params: </span><span style=\"color: #00af00; text-decoration-color: #00af00\">167,562</span> (654.54 KB)\n",
              "</pre>\n"
            ]
          },
          "metadata": {}
        },
        {
          "output_type": "display_data",
          "data": {
            "text/plain": [
              "\u001b[1m Trainable params: \u001b[0m\u001b[38;5;34m167,562\u001b[0m (654.54 KB)\n"
            ],
            "text/html": [
              "<pre style=\"white-space:pre;overflow-x:auto;line-height:normal;font-family:Menlo,'DejaVu Sans Mono',consolas,'Courier New',monospace\"><span style=\"font-weight: bold\"> Trainable params: </span><span style=\"color: #00af00; text-decoration-color: #00af00\">167,562</span> (654.54 KB)\n",
              "</pre>\n"
            ]
          },
          "metadata": {}
        },
        {
          "output_type": "display_data",
          "data": {
            "text/plain": [
              "\u001b[1m Non-trainable params: \u001b[0m\u001b[38;5;34m0\u001b[0m (0.00 B)\n"
            ],
            "text/html": [
              "<pre style=\"white-space:pre;overflow-x:auto;line-height:normal;font-family:Menlo,'DejaVu Sans Mono',consolas,'Courier New',monospace\"><span style=\"font-weight: bold\"> Non-trainable params: </span><span style=\"color: #00af00; text-decoration-color: #00af00\">0</span> (0.00 B)\n",
              "</pre>\n"
            ]
          },
          "metadata": {}
        }
      ]
    },
    {
      "cell_type": "code",
      "source": [
        "cnn.compile(optimizer = \"adam\",\n",
        "            loss = \"sparse_categorical_crossentropy\",\n",
        "            metrics = ['accuracy'])"
      ],
      "metadata": {
        "id": "aSGHA0PsU2mY"
      },
      "execution_count": null,
      "outputs": []
    },
    {
      "cell_type": "code",
      "source": [
        "cnn.fit(X_train, y_train, epochs = 10)"
      ],
      "metadata": {
        "colab": {
          "base_uri": "https://localhost:8080/"
        },
        "id": "M4-Bq44mWcxi",
        "outputId": "c697a5a4-c5ae-40b4-da82-069952ca25bf"
      },
      "execution_count": null,
      "outputs": [
        {
          "output_type": "stream",
          "name": "stdout",
          "text": [
            "Epoch 1/10\n",
            "\u001b[1m1563/1563\u001b[0m \u001b[32m━━━━━━━━━━━━━━━━━━━━\u001b[0m\u001b[37m\u001b[0m \u001b[1m6s\u001b[0m 4ms/step - accuracy: 0.4961 - loss: 1.4101\n",
            "Epoch 2/10\n",
            "\u001b[1m1563/1563\u001b[0m \u001b[32m━━━━━━━━━━━━━━━━━━━━\u001b[0m\u001b[37m\u001b[0m \u001b[1m9s\u001b[0m 3ms/step - accuracy: 0.5407 - loss: 1.2939\n",
            "Epoch 3/10\n",
            "\u001b[1m1563/1563\u001b[0m \u001b[32m━━━━━━━━━━━━━━━━━━━━\u001b[0m\u001b[37m\u001b[0m \u001b[1m6s\u001b[0m 3ms/step - accuracy: 0.5698 - loss: 1.2185\n",
            "Epoch 4/10\n",
            "\u001b[1m1563/1563\u001b[0m \u001b[32m━━━━━━━━━━━━━━━━━━━━\u001b[0m\u001b[37m\u001b[0m \u001b[1m10s\u001b[0m 3ms/step - accuracy: 0.5860 - loss: 1.1688\n",
            "Epoch 5/10\n",
            "\u001b[1m1563/1563\u001b[0m \u001b[32m━━━━━━━━━━━━━━━━━━━━\u001b[0m\u001b[37m\u001b[0m \u001b[1m5s\u001b[0m 3ms/step - accuracy: 0.6040 - loss: 1.1137\n",
            "Epoch 6/10\n",
            "\u001b[1m1563/1563\u001b[0m \u001b[32m━━━━━━━━━━━━━━━━━━━━\u001b[0m\u001b[37m\u001b[0m \u001b[1m5s\u001b[0m 3ms/step - accuracy: 0.6178 - loss: 1.0746\n",
            "Epoch 7/10\n",
            "\u001b[1m1563/1563\u001b[0m \u001b[32m━━━━━━━━━━━━━━━━━━━━\u001b[0m\u001b[37m\u001b[0m \u001b[1m5s\u001b[0m 3ms/step - accuracy: 0.6267 - loss: 1.0558\n",
            "Epoch 8/10\n",
            "\u001b[1m1563/1563\u001b[0m \u001b[32m━━━━━━━━━━━━━━━━━━━━\u001b[0m\u001b[37m\u001b[0m \u001b[1m10s\u001b[0m 3ms/step - accuracy: 0.6388 - loss: 1.0238\n",
            "Epoch 9/10\n",
            "\u001b[1m1563/1563\u001b[0m \u001b[32m━━━━━━━━━━━━━━━━━━━━\u001b[0m\u001b[37m\u001b[0m \u001b[1m10s\u001b[0m 3ms/step - accuracy: 0.6430 - loss: 0.9992\n",
            "Epoch 10/10\n",
            "\u001b[1m1563/1563\u001b[0m \u001b[32m━━━━━━━━━━━━━━━━━━━━\u001b[0m\u001b[37m\u001b[0m \u001b[1m5s\u001b[0m 3ms/step - accuracy: 0.6490 - loss: 0.9684\n"
          ]
        },
        {
          "output_type": "execute_result",
          "data": {
            "text/plain": [
              "<keras.src.callbacks.history.History at 0x790de43f80d0>"
            ]
          },
          "metadata": {},
          "execution_count": 40
        }
      ]
    },
    {
      "cell_type": "code",
      "source": [
        "cnn.evaluate(X_test, y_test)"
      ],
      "metadata": {
        "colab": {
          "base_uri": "https://localhost:8080/"
        },
        "id": "9JJ9ACCrWwI2",
        "outputId": "5936aa79-d8c4-4b9a-d696-fea103be7b6b"
      },
      "execution_count": null,
      "outputs": [
        {
          "output_type": "stream",
          "name": "stdout",
          "text": [
            "\u001b[1m313/313\u001b[0m \u001b[32m━━━━━━━━━━━━━━━━━━━━\u001b[0m\u001b[37m\u001b[0m \u001b[1m2s\u001b[0m 4ms/step - accuracy: 0.6939 - loss: 0.8867\n"
          ]
        },
        {
          "output_type": "execute_result",
          "data": {
            "text/plain": [
              "[0.8910993337631226, 0.6951000094413757]"
            ]
          },
          "metadata": {},
          "execution_count": 41
        }
      ]
    },
    {
      "cell_type": "code",
      "source": [],
      "metadata": {
        "id": "YMbajog6Xnb4"
      },
      "execution_count": null,
      "outputs": []
    }
  ]
}
>>>>>>> 00bec456730115d48a9f22f3b54b14da51898e2e
