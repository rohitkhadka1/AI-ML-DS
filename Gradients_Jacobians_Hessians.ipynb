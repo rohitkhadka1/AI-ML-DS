{
  "nbformat": 4,
  "nbformat_minor": 0,
  "metadata": {
    "colab": {
      "provenance": [],
      "authorship_tag": "ABX9TyPvnEnQ/3MihBqYlrs5+B7N",
      "include_colab_link": true
    },
    "kernelspec": {
      "name": "python3",
      "display_name": "Python 3"
    },
    "language_info": {
      "name": "python"
    }
  },
  "cells": [
    {
      "cell_type": "markdown",
      "metadata": {
        "id": "view-in-github",
        "colab_type": "text"
      },
      "source": [
        "<a href=\"https://colab.research.google.com/github/rohitkhadka1/AI-ML-DS/blob/main/Gradients_Jacobians_Hessians.ipynb\" target=\"_parent\"><img src=\"https://colab.research.google.com/assets/colab-badge.svg\" alt=\"Open In Colab\"/></a>"
      ]
    },
    {
      "cell_type": "markdown",
      "source": [
        "Jacobian"
      ],
      "metadata": {
        "id": "EEbx5qSvey4P"
      }
    },
    {
      "cell_type": "code",
      "execution_count": 2,
      "metadata": {
        "colab": {
          "base_uri": "https://localhost:8080/"
        },
        "id": "Hv_NmkMYdnfl",
        "outputId": "846eb3c1-6a9c-4b45-c924-1c0c394ce329"
      },
      "outputs": [
        {
          "output_type": "execute_result",
          "data": {
            "text/plain": [
              "tensor([[2., 1., 0.],\n",
              "        [1., 1., 0.]])"
            ]
          },
          "metadata": {},
          "execution_count": 2
        }
      ],
      "source": [
        "from torch.autograd.functional import jacobian\n",
        "import torch\n",
        "\n",
        "def func(x):\n",
        "  return torch.stack([x[0] * x[1], x[0] + x[1]])\n",
        "\n",
        "x = torch.tensor([1.0, 2,0], requires_grad = True)\n",
        "\n",
        "# Compute Jacobian matrix\n",
        "j = jacobian(func, x)\n",
        "j"
      ]
    },
    {
      "cell_type": "markdown",
      "source": [
        "Gradient"
      ],
      "metadata": {
        "id": "Tq0TCp4Ie31F"
      }
    },
    {
      "cell_type": "code",
      "source": [
        "weight = torch.tensor([4.0], requires_grad=True)\n",
        "gradient = weight ** 2 + 2 * weight + 1\n",
        "\n",
        "gradient.backward()\n",
        "\n",
        "print(weight.grad)"
      ],
      "metadata": {
        "colab": {
          "base_uri": "https://localhost:8080/"
        },
        "id": "fMro3hKge1uN",
        "outputId": "7ff25449-68fc-4bdf-c06a-8e660121aeb4"
      },
      "execution_count": 4,
      "outputs": [
        {
          "output_type": "stream",
          "name": "stdout",
          "text": [
            "tensor([10.])\n"
          ]
        }
      ]
    },
    {
      "cell_type": "markdown",
      "source": [
        "Hessian"
      ],
      "metadata": {
        "id": "Ed_352GtfedL"
      }
    },
    {
      "cell_type": "code",
      "source": [
        "from torch.autograd.functional import hessian\n",
        "\n",
        "def scalar_func(x):\n",
        "  return x[0] ** 2 + 2 * x[0] * x[1] + x[1] ** 2\n",
        "\n",
        "x = torch.tensor([1.0, 2.0], requires_grad= True)\n",
        "\n",
        "hess_ian = hessian(scalar_func, x)\n",
        "hess_ian"
      ],
      "metadata": {
        "colab": {
          "base_uri": "https://localhost:8080/"
        },
        "id": "7qz6tLOVejZs",
        "outputId": "8b2e9bc9-0022-4a58-aa7e-a2eece981cfa"
      },
      "execution_count": 5,
      "outputs": [
        {
          "output_type": "execute_result",
          "data": {
            "text/plain": [
              "tensor([[2., 2.],\n",
              "        [2., 2.]])"
            ]
          },
          "metadata": {},
          "execution_count": 5
        }
      ]
    },
    {
      "cell_type": "code",
      "source": [],
      "metadata": {
        "id": "xM2RfzgcgQfU"
      },
      "execution_count": null,
      "outputs": []
    }
  ]
}