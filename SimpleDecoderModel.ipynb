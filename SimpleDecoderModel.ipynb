{
  "nbformat": 4,
  "nbformat_minor": 0,
  "metadata": {
    "colab": {
      "provenance": [],
      "gpuType": "T4",
      "authorship_tag": "ABX9TyNsTIzuCkbN41t2fUk+7n1T",
      "include_colab_link": true
    },
    "kernelspec": {
      "name": "python3",
      "display_name": "Python 3"
    },
    "language_info": {
      "name": "python"
    },
    "accelerator": "GPU"
  },
  "cells": [
    {
      "cell_type": "markdown",
      "metadata": {
        "id": "view-in-github",
        "colab_type": "text"
      },
      "source": [
        "<a href=\"https://colab.research.google.com/github/rohitkhadka1/AI-ML-DS/blob/main/SimpleDecoderModel.ipynb\" target=\"_parent\"><img src=\"https://colab.research.google.com/assets/colab-badge.svg\" alt=\"Open In Colab\"/></a>"
      ]
    },
    {
      "cell_type": "code",
      "execution_count": 1,
      "metadata": {
        "id": "MUHmxgwojTno"
      },
      "outputs": [],
      "source": [
        "import tensorflow as tf\n",
        "\n",
        "def causal_mask(seq_len):\n",
        "    return tf.linalg.band_part(tf.ones((seq_len, seq_len)), -1, 0)\n",
        "\n",
        "class SimpleGPT(tf.keras.Model):\n",
        "    def __init__(self, vocab_size, d_model):\n",
        "        super().__init__()\n",
        "        self.embedding = tf.keras.layers.Embedding(vocab_size, d_model)\n",
        "        self.attention = tf.keras.layers.MultiHeadAttention(num_heads=8, key_dim=d_model)\n",
        "        self.dense = tf.keras.layers.Dense(vocab_size)\n",
        "\n",
        "    def call(self, x):\n",
        "        seq_len = tf.shape(x)[1]\n",
        "        x = self.embedding(x)\n",
        "        mask = causal_mask(seq_len)[tf.newaxis, tf.newaxis, :, :]\n",
        "        attn_out = self.attention(x, x, attention_mask=mask)\n",
        "        return self.dense(attn_out)\n",
        "\n",
        "# Sample use\n",
        "model = SimpleGPT(vocab_size=10000, d_model=512)\n",
        "tokens = tf.random.uniform((1, 10), maxval=10000, dtype=tf.int32)\n",
        "output = model(tokens)\n"
      ]
    }
  ]
}