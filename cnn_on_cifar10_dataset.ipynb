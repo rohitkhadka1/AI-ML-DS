{
  "nbformat": 4,
  "nbformat_minor": 0,
  "metadata": {
    "colab": {
      "provenance": [],
      "gpuType": "T4",
      "authorship_tag": "ABX9TyOYSGc3H/3z2AFTsQGnP1us",
      "include_colab_link": true
    },
    "kernelspec": {
      "name": "python3",
      "display_name": "Python 3"
    },
    "language_info": {
      "name": "python"
    },
    "accelerator": "GPU"
  },
  "cells": [
    {
      "cell_type": "markdown",
      "metadata": {
        "id": "view-in-github",
        "colab_type": "text"
      },
      "source": [
        "<a href=\"https://colab.research.google.com/github/rohitkhadka1/AI-ML-DS/blob/main/cnn_on_cifar10_dataset.ipynb\" target=\"_parent\"><img src=\"https://colab.research.google.com/assets/colab-badge.svg\" alt=\"Open In Colab\"/></a>"
      ]
    },
    {
      "cell_type": "code",
      "execution_count": null,
      "metadata": {
        "id": "WKRkdsRDalQz"
      },
      "outputs": [],
      "source": [
        "import tensorflow as tf\n",
        "from tensorflow import keras\n",
        "from tensorflow.keras import layers\n",
        "import numpy as np"
      ]
    },
    {
      "cell_type": "code",
      "source": [
        "# Load a sample dataset (MNIST for simplicity)\n",
        "(x_train, y_train), (x_test, y_test) = keras.datasets.cifar10.load_data()\n",
        "# Normalize and reshape data\n",
        "x_train = x_train.astype(\"float32\") / 255.0\n",
        "x_test = x_test.astype(\"float32\") / 255.0\n",
        "# x_train = np.expand_dims(x_train, axis=-1) # Add channel dimension\n",
        "# x_test = np.expand_dims(x_test, axis=-1)"
      ],
      "metadata": {
        "id": "qlpzv14_cTxz"
      },
      "execution_count": null,
      "outputs": []
    },
    {
      "cell_type": "code",
      "source": [
        "# Define a simple CNN model\n",
        "model = keras.Sequential([\n",
        "layers.Conv2D(32, (3, 3), activation=\"relu\", input_shape=(32, 32, 3)),\n",
        "layers.MaxPooling2D((2, 2)),\n",
        "layers.Conv2D(64, (3, 3), activation=\"relu\"),\n",
        "layers.MaxPooling2D((2, 2)),\n",
        "layers.Flatten(),\n",
        "layers.Dense(128, activation=\"relu\"),\n",
        "layers.Dense(10, activation=\"softmax\") # 10 classes for MNIST digits\n",
        "])"
      ],
      "metadata": {
        "id": "apvOO25abRjj"
      },
      "execution_count": null,
      "outputs": []
    },
    {
      "cell_type": "code",
      "source": [
        "# Compile the model\n",
        "model.compile(optimizer=\"adam\",\n",
        "\n",
        "loss=\"sparse_categorical_crossentropy\",\n",
        "  metrics=[\"accuracy\"])"
      ],
      "metadata": {
        "id": "ZRb0yFZgbT8l"
      },
      "execution_count": null,
      "outputs": []
    },
    {
      "cell_type": "code",
      "source": [
        "# Train the model\n",
        "model.fit(x_train, y_train, epochs=5, batch_size=32, validation_data=(x_test, y_test))"
      ],
      "metadata": {
        "colab": {
          "base_uri": "https://localhost:8080/"
        },
        "id": "tTiekAX2bXcv",
        "outputId": "58c1a000-6495-448c-96ca-424fd1596737"
      },
      "execution_count": null,
      "outputs": [
        {
          "output_type": "stream",
          "name": "stdout",
          "text": [
            "Epoch 1/5\n",
            "\u001b[1m1563/1563\u001b[0m \u001b[32m━━━━━━━━━━━━━━━━━━━━\u001b[0m\u001b[37m\u001b[0m \u001b[1m10s\u001b[0m 5ms/step - accuracy: 0.3941 - loss: 1.6594 - val_accuracy: 0.5680 - val_loss: 1.2406\n",
            "Epoch 2/5\n",
            "\u001b[1m1563/1563\u001b[0m \u001b[32m━━━━━━━━━━━━━━━━━━━━\u001b[0m\u001b[37m\u001b[0m \u001b[1m7s\u001b[0m 3ms/step - accuracy: 0.6056 - loss: 1.1125 - val_accuracy: 0.6389 - val_loss: 1.0319\n",
            "Epoch 3/5\n",
            "\u001b[1m1563/1563\u001b[0m \u001b[32m━━━━━━━━━━━━━━━━━━━━\u001b[0m\u001b[37m\u001b[0m \u001b[1m6s\u001b[0m 4ms/step - accuracy: 0.6694 - loss: 0.9462 - val_accuracy: 0.6710 - val_loss: 0.9480\n",
            "Epoch 4/5\n",
            "\u001b[1m1563/1563\u001b[0m \u001b[32m━━━━━━━━━━━━━━━━━━━━\u001b[0m\u001b[37m\u001b[0m \u001b[1m10s\u001b[0m 4ms/step - accuracy: 0.7123 - loss: 0.8294 - val_accuracy: 0.6825 - val_loss: 0.9141\n",
            "Epoch 5/5\n",
            "\u001b[1m1563/1563\u001b[0m \u001b[32m━━━━━━━━━━━━━━━━━━━━\u001b[0m\u001b[37m\u001b[0m \u001b[1m5s\u001b[0m 3ms/step - accuracy: 0.7445 - loss: 0.7382 - val_accuracy: 0.7010 - val_loss: 0.8812\n"
          ]
        },
        {
          "output_type": "execute_result",
          "data": {
            "text/plain": [
              "<keras.src.callbacks.history.History at 0x7bf5fc154e10>"
            ]
          },
          "metadata": {},
          "execution_count": 15
        }
      ]
    },
    {
      "cell_type": "code",
      "source": [
        "# Evaluate the model\n",
        "test_loss, test_acc = model.evaluate(x_test, y_test)\n",
        "print(f\"Test accuracy: {test_acc:.4f}\")\n",
        "# Make predictions\n",
        "predictions = model.predict(x_test[:5])\n",
        "predicted_labels = np.argmax(predictions, axis=1)\n",
        "print(\"Predicted labels:\", predicted_labels)\n",
        "print(\"Actual labels: \", y_test[:5])"
      ],
      "metadata": {
        "colab": {
          "base_uri": "https://localhost:8080/"
        },
        "id": "Im-Id6V9baSh",
        "outputId": "282d71ab-16ff-479e-d25c-e31728df895d"
      },
      "execution_count": null,
      "outputs": [
        {
          "output_type": "stream",
          "name": "stdout",
          "text": [
            "\u001b[1m313/313\u001b[0m \u001b[32m━━━━━━━━━━━━━━━━━━━━\u001b[0m\u001b[37m\u001b[0m \u001b[1m1s\u001b[0m 2ms/step - accuracy: 0.7063 - loss: 0.8802\n",
            "Test accuracy: 0.7010\n",
            "\u001b[1m1/1\u001b[0m \u001b[32m━━━━━━━━━━━━━━━━━━━━\u001b[0m\u001b[37m\u001b[0m \u001b[1m0s\u001b[0m 232ms/step\n",
            "Predicted labels: [3 8 8 0 4]\n",
            "Actual labels:  [[3]\n",
            " [8]\n",
            " [8]\n",
            " [0]\n",
            " [6]]\n"
          ]
        }
      ]
    }
  ]
}